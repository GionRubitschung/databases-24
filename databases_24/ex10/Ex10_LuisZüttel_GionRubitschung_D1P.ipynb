{
 "cells": [
  {
   "cell_type": "markdown",
   "metadata": {},
   "source": [
    "# Exercise 1 (JDBC)\n",
    "\n",
    "1.  Understand the code in module `jdbc-assignment`.\n",
    "2.  Run the main function in class `JdbcExample`, it should output a list of instructors.\n",
    "3.  Adapt the code to output a list of departments with the average salary of their instructors."
   ]
  },
  {
   "cell_type": "markdown",
   "metadata": {},
   "source": [
    "# Exercise 2 (JPA)\n",
    "\n",
    "1.  Understand the code in module `jpa-assignment`.\n",
    "2.  Run the main function in class `JPAExample`, it should output a list of instructors.\n",
    "3.  Adapt the code to output each department (not just the `dept_name`). For that, you'll have to write an appropiate `Department`class with a `toString` method and add it to `persistence.xml`.\n",
    "4.  Adapt the code to output each department together wit the names of the instructors working for that department. For that, add a bidirectional relationship between `Instructor` and `Department`. In particular, the `Instructor` class will need a `department` member and the `Department` class will need an `instructors` member and a public `getInstructors` method. You will also need to tell JPA the name of the foreign key column in `Instructor` that references `Department`.\n",
    "You can do this with the `@JoinColumn(name = \"dept_name\")` annotation on the `department` member."
   ]
  }
 ],
 "metadata": {
  "kernelspec": {
   "display_name": "databases-24-UT-w7X0b-py3.12",
   "language": "python",
   "name": "python3"
  },
  "language_info": {
   "name": "python",
   "version": "3.12.2"
  }
 },
 "nbformat": 4,
 "nbformat_minor": 2
}
