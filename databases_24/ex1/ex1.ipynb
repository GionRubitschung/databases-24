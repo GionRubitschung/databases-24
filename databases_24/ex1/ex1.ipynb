{
 "cells": [
  {
   "cell_type": "code",
   "execution_count": 1,
   "metadata": {},
   "outputs": [],
   "source": [
    "%load_ext sql"
   ]
  },
  {
   "cell_type": "code",
   "execution_count": 2,
   "metadata": {},
   "outputs": [],
   "source": [
    "%sql sqlite://"
   ]
  },
  {
   "cell_type": "markdown",
   "metadata": {},
   "source": [
    "# Exercise 1\n",
    "\n",
    "Sie möchten in einer Tabelle in einer Datenbank speichern, an welchem Datum Sie sich mit welcher Person an welchem Ort getroffen haben.\n",
    "\n",
    "a) Geben Sie das Schema dieser Datenbank"
   ]
  },
  {
   "cell_type": "code",
   "execution_count": 3,
   "metadata": {
    "vscode": {
     "languageId": "sql"
    }
   },
   "outputs": [
    {
     "name": "stdout",
     "output_type": "stream",
     "text": [
      " * sqlite://\n",
      "Done.\n",
      "Done.\n"
     ]
    },
    {
     "data": {
      "text/plain": [
       "[]"
      ]
     },
     "execution_count": 3,
     "metadata": {},
     "output_type": "execute_result"
    }
   ],
   "source": [
    "%%sql\n",
    "\n",
    "DROP TABLE IF EXISTS MEETINGS;\n",
    "CREATE TABLE MEETINGS (\n",
    "    NAME VARCHAR(100),\n",
    "    DATE DATE\n",
    ");"
   ]
  },
  {
   "cell_type": "markdown",
   "metadata": {},
   "source": [
    "b) Geben Sie ein Beispiel für eine Instanz dieses Schemas."
   ]
  },
  {
   "cell_type": "code",
   "execution_count": 4,
   "metadata": {
    "vscode": {
     "languageId": "sql"
    }
   },
   "outputs": [
    {
     "name": "stdout",
     "output_type": "stream",
     "text": [
      " * sqlite://\n",
      "1 rows affected.\n",
      "Done.\n"
     ]
    },
    {
     "data": {
      "text/html": [
       "<table>\n",
       "    <thead>\n",
       "        <tr>\n",
       "            <th>NAME</th>\n",
       "            <th>DATE</th>\n",
       "        </tr>\n",
       "    </thead>\n",
       "    <tbody>\n",
       "        <tr>\n",
       "            <td>Max Muster</td>\n",
       "            <td>2024-01-01 15:00:00</td>\n",
       "        </tr>\n",
       "    </tbody>\n",
       "</table>"
      ],
      "text/plain": [
       "[('Max Muster', '2024-01-01 15:00:00')]"
      ]
     },
     "execution_count": 4,
     "metadata": {},
     "output_type": "execute_result"
    }
   ],
   "source": [
    "%%sql\n",
    "\n",
    "INSERT INTO MEETINGS (NAME, DATE) VALUES ('Max Muster', '2024-01-01 15:00:00');\n",
    "SELECT * FROM MEETINGS;"
   ]
  },
  {
   "cell_type": "markdown",
   "metadata": {},
   "source": [
    "# Exercise 2\n",
    "\n",
    "a) Erweitern Sie das Beispiel aus der letzten Aufgabe: Sie wollen in der selben Tabelle auch noch die (aktuelle) Telefonnummer der Personen speichern."
   ]
  },
  {
   "cell_type": "code",
   "execution_count": 5,
   "metadata": {
    "vscode": {
     "languageId": "sql"
    }
   },
   "outputs": [
    {
     "name": "stdout",
     "output_type": "stream",
     "text": [
      " * sqlite://\n",
      "Done.\n",
      "1 rows affected.\n"
     ]
    },
    {
     "data": {
      "text/plain": [
       "[]"
      ]
     },
     "execution_count": 5,
     "metadata": {},
     "output_type": "execute_result"
    }
   ],
   "source": [
    "%%sql\n",
    "\n",
    "ALTER TABLE MEETINGS ADD COLUMN PHONE_NUMBER VARCHAR(100) NULL;\n",
    "UPDATE MEETINGS SET PHONE_NUMBER = '1234567890' WHERE NAME = 'Max Muster';"
   ]
  },
  {
   "cell_type": "markdown",
   "metadata": {},
   "source": [
    "b) Erklären Sie anhand dieses Beispiels Redundanz in einer Datenbank\n",
    "\n",
    "An sich können keine redundanten Treffen mit einer Person entstehen. Man kann die Person nicht zweimal am exakt gleichen Zeitpunk treffen.\n",
    "Trifft man die Person jedoch mehrmals wird der Name und die Telefonnummer mehrfach hinterlegt, was zu redundanten Einträgen führt.\n",
    "In unserer Datenbank haben wir Max Muster bisher einmal getroffen, wenn wir Max Muster nocheinmal treffen, ist Max Muster ein redundanter Eintrag."
   ]
  },
  {
   "cell_type": "code",
   "execution_count": 6,
   "metadata": {
    "vscode": {
     "languageId": "sql"
    }
   },
   "outputs": [
    {
     "name": "stdout",
     "output_type": "stream",
     "text": [
      " * sqlite://\n",
      "1 rows affected.\n",
      "Done.\n"
     ]
    },
    {
     "data": {
      "text/html": [
       "<table>\n",
       "    <thead>\n",
       "        <tr>\n",
       "            <th>NAME</th>\n",
       "            <th>DATE</th>\n",
       "            <th>PHONE_NUMBER</th>\n",
       "        </tr>\n",
       "    </thead>\n",
       "    <tbody>\n",
       "        <tr>\n",
       "            <td>Max Muster</td>\n",
       "            <td>2024-01-01 15:00:00</td>\n",
       "            <td>1234567890</td>\n",
       "        </tr>\n",
       "        <tr>\n",
       "            <td>Max Muster</td>\n",
       "            <td>2024-01-01 16:00:00</td>\n",
       "            <td>1234567890</td>\n",
       "        </tr>\n",
       "    </tbody>\n",
       "</table>"
      ],
      "text/plain": [
       "[('Max Muster', '2024-01-01 15:00:00', '1234567890'),\n",
       " ('Max Muster', '2024-01-01 16:00:00', '1234567890')]"
      ]
     },
     "execution_count": 6,
     "metadata": {},
     "output_type": "execute_result"
    }
   ],
   "source": [
    "%%sql\n",
    "\n",
    "INSERT INTO MEETINGS (NAME, DATE, PHONE_NUMBER) VALUES ('Max Muster', '2024-01-01 16:00:00', '1234567890');\n",
    "SELECT * FROM MEETINGS;"
   ]
  },
  {
   "cell_type": "markdown",
   "metadata": {},
   "source": [
    "Wie wir sehen können ist Max Muster zweimal hinterlegt, was zu einer Redundanz führt."
   ]
  },
  {
   "cell_type": "markdown",
   "metadata": {},
   "source": [
    "c) Erklären Sie, wie aus dieser Redundanz Inkonsistenz entstehen kann.\n",
    "\n",
    "Nehmen wir mal an, wir treffen einen anderen Max Muster der eine andere Telefonnummer hat. Mit zwei Max Mustern ist dies noch einigermassen übersichtlich.\n",
    "Ist es jedoch eine Firma die alle Meetings managed wird dies sehr schnell unübersichtlich."
   ]
  },
  {
   "cell_type": "code",
   "execution_count": 7,
   "metadata": {
    "vscode": {
     "languageId": "sql"
    }
   },
   "outputs": [
    {
     "name": "stdout",
     "output_type": "stream",
     "text": [
      " * sqlite://\n",
      "1 rows affected.\n",
      "Done.\n"
     ]
    },
    {
     "data": {
      "text/html": [
       "<table>\n",
       "    <thead>\n",
       "        <tr>\n",
       "            <th>NAME</th>\n",
       "            <th>DATE</th>\n",
       "            <th>PHONE_NUMBER</th>\n",
       "        </tr>\n",
       "    </thead>\n",
       "    <tbody>\n",
       "        <tr>\n",
       "            <td>Max Muster</td>\n",
       "            <td>2024-01-01 15:00:00</td>\n",
       "            <td>1234567890</td>\n",
       "        </tr>\n",
       "        <tr>\n",
       "            <td>Max Muster</td>\n",
       "            <td>2024-01-01 16:00:00</td>\n",
       "            <td>1234567890</td>\n",
       "        </tr>\n",
       "        <tr>\n",
       "            <td>Max Muster</td>\n",
       "            <td>2024-02-01 16:00:00</td>\n",
       "            <td>9234567890</td>\n",
       "        </tr>\n",
       "    </tbody>\n",
       "</table>"
      ],
      "text/plain": [
       "[('Max Muster', '2024-01-01 15:00:00', '1234567890'),\n",
       " ('Max Muster', '2024-01-01 16:00:00', '1234567890'),\n",
       " ('Max Muster', '2024-02-01 16:00:00', '9234567890')]"
      ]
     },
     "execution_count": 7,
     "metadata": {},
     "output_type": "execute_result"
    }
   ],
   "source": [
    "%%sql\n",
    "\n",
    "INSERT INTO MEETINGS (NAME, DATE, PHONE_NUMBER) VALUES ('Max Muster', '2024-02-01 16:00:00', '9234567890');\n",
    "SELECT * FROM MEETINGS;"
   ]
  }
 ],
 "metadata": {
  "kernelspec": {
   "display_name": ".venv",
   "language": "python",
   "name": "python3"
  },
  "language_info": {
   "codemirror_mode": {
    "name": "ipython",
    "version": 3
   },
   "file_extension": ".py",
   "mimetype": "text/x-python",
   "name": "python",
   "nbconvert_exporter": "python",
   "pygments_lexer": "ipython3",
   "version": "3.12.1"
  }
 },
 "nbformat": 4,
 "nbformat_minor": 2
}
