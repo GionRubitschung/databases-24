{
 "cells": [
  {
   "cell_type": "code",
   "execution_count": 30,
   "metadata": {},
   "outputs": [
    {
     "name": "stdout",
     "output_type": "stream",
     "text": [
      "The sql extension is already loaded. To reload it, use:\n",
      "  %reload_ext sql\n"
     ]
    }
   ],
   "source": [
    "%load_ext sql"
   ]
  },
  {
   "cell_type": "code",
   "execution_count": 31,
   "metadata": {},
   "outputs": [],
   "source": [
    "%sql sqlite://"
   ]
  },
  {
   "cell_type": "markdown",
   "metadata": {},
   "source": [
    "# Exercise 1\n",
    "\n",
    "Sie möchten in einer Tabelle in einer Datenbank speichern, an welchem Datum Sie sich mit welcher Person an welchem Ort getroffen haben.\n",
    "\n",
    "a) Geben Sie das Schema dieser Datenbank"
   ]
  },
  {
   "cell_type": "code",
   "execution_count": 32,
   "metadata": {
    "vscode": {
     "languageId": "sql"
    }
   },
   "outputs": [
    {
     "name": "stdout",
     "output_type": "stream",
     "text": [
      " * sqlite://\n",
      "Done.\n",
      "Done.\n"
     ]
    },
    {
     "data": {
      "text/plain": [
       "[]"
      ]
     },
     "execution_count": 32,
     "metadata": {},
     "output_type": "execute_result"
    }
   ],
   "source": [
    "%%sql\n",
    "\n",
    "DROP TABLE IF EXISTS MEETINGS;\n",
    "CREATE TABLE MEETINGS (\n",
    "    NAME VARCHAR(100),\n",
    "    DATE DATE\n",
    ");"
   ]
  },
  {
   "cell_type": "markdown",
   "metadata": {},
   "source": [
    "b) Geben Sie ein Beispiel für eine Instanz dieses Schemas."
   ]
  },
  {
   "cell_type": "code",
   "execution_count": 33,
   "metadata": {
    "vscode": {
     "languageId": "sql"
    }
   },
   "outputs": [
    {
     "name": "stdout",
     "output_type": "stream",
     "text": [
      " * sqlite://\n",
      "1 rows affected.\n",
      "Done.\n"
     ]
    },
    {
     "data": {
      "text/html": [
       "<table>\n",
       "    <thead>\n",
       "        <tr>\n",
       "            <th>NAME</th>\n",
       "            <th>DATE</th>\n",
       "        </tr>\n",
       "    </thead>\n",
       "    <tbody>\n",
       "        <tr>\n",
       "            <td>Max Muster</td>\n",
       "            <td>2024-01-01 15:00:00</td>\n",
       "        </tr>\n",
       "    </tbody>\n",
       "</table>"
      ],
      "text/plain": [
       "[('Max Muster', '2024-01-01 15:00:00')]"
      ]
     },
     "execution_count": 33,
     "metadata": {},
     "output_type": "execute_result"
    }
   ],
   "source": [
    "%%sql\n",
    "\n",
    "INSERT INTO MEETINGS (NAME, DATE) VALUES ('Max Muster', '2024-01-01 15:00:00');\n",
    "SELECT * FROM MEETINGS;"
   ]
  },
  {
   "cell_type": "markdown",
   "metadata": {},
   "source": [
    "# Exercise 2\n",
    "\n",
    "a) Erweitern Sie das Beispiel aus der letzten Aufgabe: Sie wollen in der selben Tabelle auch noch die (aktuelle) Telefonnummer der Personen speichern."
   ]
  },
  {
   "cell_type": "code",
   "execution_count": 34,
   "metadata": {
    "vscode": {
     "languageId": "sql"
    }
   },
   "outputs": [
    {
     "name": "stdout",
     "output_type": "stream",
     "text": [
      " * sqlite://\n",
      "Done.\n",
      "1 rows affected.\n"
     ]
    },
    {
     "data": {
      "text/plain": [
       "[]"
      ]
     },
     "execution_count": 34,
     "metadata": {},
     "output_type": "execute_result"
    }
   ],
   "source": [
    "%%sql\n",
    "\n",
    "ALTER TABLE MEETINGS ADD COLUMN PHONE_NUMBER VARCHAR(100) NULL;\n",
    "UPDATE MEETINGS SET PHONE_NUMBER = '1234567890' WHERE NAME = 'Max Muster';"
   ]
  },
  {
   "cell_type": "markdown",
   "metadata": {},
   "source": [
    "b) Erklären Sie anhand dieses Beispiels Redundanz in einer Datenbank\n",
    "\n",
    "An sich können keine redundanten Treffen mit einer Person entstehen. Man kann die Person nicht zweimal am exakt gleichen Zeitpunk treffen.\n",
    "Trifft man die Person jedoch mehrmals wird der Name und die Telefonnummer mehrfach hinterlegt, was zu redundanten Einträgen führt.\n",
    "In unserer Datenbank haben wir Max Muster bisher einmal getroffen, wenn wir Max Muster nocheinmal treffen, ist Max Muster ein redundanter Eintrag."
   ]
  },
  {
   "cell_type": "code",
   "execution_count": 35,
   "metadata": {
    "vscode": {
     "languageId": "sql"
    }
   },
   "outputs": [
    {
     "name": "stdout",
     "output_type": "stream",
     "text": [
      " * sqlite://\n",
      "1 rows affected.\n",
      "Done.\n"
     ]
    },
    {
     "data": {
      "text/html": [
       "<table>\n",
       "    <thead>\n",
       "        <tr>\n",
       "            <th>NAME</th>\n",
       "            <th>DATE</th>\n",
       "            <th>PHONE_NUMBER</th>\n",
       "        </tr>\n",
       "    </thead>\n",
       "    <tbody>\n",
       "        <tr>\n",
       "            <td>Max Muster</td>\n",
       "            <td>2024-01-01 15:00:00</td>\n",
       "            <td>1234567890</td>\n",
       "        </tr>\n",
       "        <tr>\n",
       "            <td>Max Muster</td>\n",
       "            <td>2024-01-01 16:00:00</td>\n",
       "            <td>1234567890</td>\n",
       "        </tr>\n",
       "    </tbody>\n",
       "</table>"
      ],
      "text/plain": [
       "[('Max Muster', '2024-01-01 15:00:00', '1234567890'),\n",
       " ('Max Muster', '2024-01-01 16:00:00', '1234567890')]"
      ]
     },
     "execution_count": 35,
     "metadata": {},
     "output_type": "execute_result"
    }
   ],
   "source": [
    "%%sql\n",
    "\n",
    "INSERT INTO MEETINGS (NAME, DATE, PHONE_NUMBER) VALUES ('Max Muster', '2024-01-01 16:00:00', '1234567890');\n",
    "SELECT * FROM MEETINGS;"
   ]
  },
  {
   "cell_type": "markdown",
   "metadata": {},
   "source": [
    "Wie wir sehen können ist Max Muster zweimal hinterlegt, was zu einer Redundanz führt."
   ]
  },
  {
   "cell_type": "markdown",
   "metadata": {},
   "source": [
    "c) Erklären Sie, wie aus dieser Redundanz Inkonsistenz entstehen kann.\n",
    "\n",
    "Nehmen wir mal an, wir treffen einen anderen Max Muster der eine andere Telefonnummer hat. Mit zwei Max Mustern ist dies noch einigermassen übersichtlich.\n",
    "Ist es jedoch eine Firma die alle Meetings managed wird dies sehr schnell unübersichtlich."
   ]
  },
  {
   "cell_type": "code",
   "execution_count": 36,
   "metadata": {
    "vscode": {
     "languageId": "sql"
    }
   },
   "outputs": [
    {
     "name": "stdout",
     "output_type": "stream",
     "text": [
      " * sqlite://\n",
      "1 rows affected.\n",
      "Done.\n"
     ]
    },
    {
     "data": {
      "text/html": [
       "<table>\n",
       "    <thead>\n",
       "        <tr>\n",
       "            <th>NAME</th>\n",
       "            <th>DATE</th>\n",
       "            <th>PHONE_NUMBER</th>\n",
       "        </tr>\n",
       "    </thead>\n",
       "    <tbody>\n",
       "        <tr>\n",
       "            <td>Max Muster</td>\n",
       "            <td>2024-01-01 15:00:00</td>\n",
       "            <td>1234567890</td>\n",
       "        </tr>\n",
       "        <tr>\n",
       "            <td>Max Muster</td>\n",
       "            <td>2024-01-01 16:00:00</td>\n",
       "            <td>1234567890</td>\n",
       "        </tr>\n",
       "        <tr>\n",
       "            <td>Max Muster</td>\n",
       "            <td>2024-02-01 16:00:00</td>\n",
       "            <td>9234567890</td>\n",
       "        </tr>\n",
       "    </tbody>\n",
       "</table>"
      ],
      "text/plain": [
       "[('Max Muster', '2024-01-01 15:00:00', '1234567890'),\n",
       " ('Max Muster', '2024-01-01 16:00:00', '1234567890'),\n",
       " ('Max Muster', '2024-02-01 16:00:00', '9234567890')]"
      ]
     },
     "execution_count": 36,
     "metadata": {},
     "output_type": "execute_result"
    }
   ],
   "source": [
    "%%sql\n",
    "\n",
    "INSERT INTO MEETINGS (NAME, DATE, PHONE_NUMBER) VALUES ('Max Muster', '2024-02-01 16:00:00', '9234567890');\n",
    "SELECT * FROM MEETINGS;"
   ]
  },
  {
   "cell_type": "markdown",
   "metadata": {},
   "source": [
    "# Exercise 3\n",
    "\n",
    "Gegeben seien die Tabellen instructor und department als CSV-Dateien. Implementieren Sie folgende Abfragen in einer Ihnen genehmen Programmiersprache oder Pseudocode:\n",
    "\n",
    "a) Gegeben eine instructor ID, finde den Namen des instructors mit dieser ID."
   ]
  },
  {
   "cell_type": "code",
   "execution_count": 37,
   "metadata": {},
   "outputs": [
    {
     "data": {
      "text/plain": [
       "0    Srinivasan\n",
       "Name: name, dtype: object"
      ]
     },
     "execution_count": 37,
     "metadata": {},
     "output_type": "execute_result"
    }
   ],
   "source": [
    "import pandas as pd\n",
    "\n",
    "given_id = 10101\n",
    "instructor_data = pd.read_csv('files/instructor.csv', header=0)\n",
    "\n",
    "instructor_data[instructor_data['ID'] == given_id]['name']\n"
   ]
  },
  {
   "cell_type": "markdown",
   "metadata": {},
   "source": [
    "b) Gegeben einen Namen eines instructors, finde das Gebäude in dem er/sie arbeitet."
   ]
  },
  {
   "cell_type": "code",
   "execution_count": 38,
   "metadata": {},
   "outputs": [
    {
     "data": {
      "text/plain": [
       "2    Watson\n",
       "Name: building, dtype: object"
      ]
     },
     "execution_count": 38,
     "metadata": {},
     "output_type": "execute_result"
    }
   ],
   "source": [
    "instructor_name = 'Einstein'\n",
    "\n",
    "department_data = pd.read_csv('files/department.csv', header=0)\n",
    "\n",
    "instructor_department = pd.merge(instructor_data, department_data, on='dept_name')\n",
    "instructor_department[instructor_department['name'] == instructor_name]['building']"
   ]
  },
  {
   "cell_type": "markdown",
   "metadata": {},
   "source": [
    "Vergleichsweise ist der Aufwand, um diese Abfragen zu machen, deutlich grösser.\n",
    "Wäre diese Tabellen in einer SQL Datenbank hinterlegt, könnte man die SQL Queries ausführen und hätte keine weitere Dependencies."
   ]
  },
  {
   "cell_type": "markdown",
   "metadata": {},
   "source": [
    "# Exercise 4\n",
    "\n",
    "Gegeben sei ein Array in der globalen Variable a mit Kontoständen in nichtflüchtigem Speicher. Es soll die Integritätsbedingung gelten, dass die Summe aller Werte\n",
    "des Arrays gleich bleibt. Nun soll das erste Konto geleert und auf das zweite Konto\n",
    "überwiesen werden. Dazu gibt es die Funktion:\n",
    "\n",
    "```java\n",
    "void transact(int[] a)\n",
    "    a[1] = a[1] + a[0];\n",
    "    a[0] = 0;\n",
    "```\n",
    "\n",
    "Erklären Sie, wie bei einem Systemabsturz die Integritätsbedingung verletzt werden\n",
    "kann.\n",
    "\n",
    "Wenn unter Umständen das System abstürzt, während die `transact`-Methode ausgeführt wird, kann es sein, dass die Summe nicht gleich bleibt. Das geschieht dadurch, dass es unterbrochen wird und nur der erste Schritt ausgeführt wird und der zweite Schritt nicht, welches die Integritätsbedingung verletzt.\n",
    "\n",
    "Erweitern Sie die Funktion auf geeignete Weise, um sicherzustellen, dass die Integritätsbedingung zu jedem Zeitpunkt gilt.\n",
    "\n",
    "```java\n",
    "void transact(int[] a)\n",
    "    int[] new_values = a.clone();\n",
    "    new_values[1] = new_values[1] + new_values[0];\n",
    "    new_values[0] = 0;\n",
    "    a = new_values.clone();\n",
    "```"
   ]
  }
 ],
 "metadata": {
  "kernelspec": {
   "display_name": ".venv",
   "language": "python",
   "name": "python3"
  },
  "language_info": {
   "codemirror_mode": {
    "name": "ipython",
    "version": 3
   },
   "file_extension": ".py",
   "mimetype": "text/x-python",
   "name": "python",
   "nbconvert_exporter": "python",
   "pygments_lexer": "ipython3",
   "version": "3.12.2"
  }
 },
 "nbformat": 4,
 "nbformat_minor": 2
}
