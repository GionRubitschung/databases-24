{
 "cells": [
  {
   "cell_type": "markdown",
   "metadata": {},
   "source": [
    "Gegeben sei Schema\n",
    "\n",
    "&emsp;&emsp;&emsp;$R = (A,B,C,D,E)$\n",
    "\n",
    "mit den funktionalen Abhängigkeiten\n",
    "\n",
    "&emsp;&emsp;&emsp;$F = \\{A \\rightarrow BC,CD \\rightarrow E,B \\rightarrow D, E \\rightarrow A\\}$"
   ]
  },
  {
   "cell_type": "markdown",
   "metadata": {},
   "source": [
    "# Exercise 1 (3NF)\n",
    "\n",
    "Ist das Schema in 3NF? Begründen Sie Ihre Antwort."
   ]
  },
  {
   "cell_type": "markdown",
   "metadata": {},
   "source": []
  },
  {
   "cell_type": "markdown",
   "metadata": {},
   "source": [
    "# Exercise 2 (Dependency Preservation)\n",
    "\n",
    "Ist die Zerlegung des Schemas in $R_1 = (B, D)$ und $R_2 = (A,B,C,E)$ abhängigkeitserhaltend? (dependency preserving)?"
   ]
  },
  {
   "cell_type": "markdown",
   "metadata": {},
   "source": []
  }
 ],
 "metadata": {
  "language_info": {
   "name": "python"
  }
 },
 "nbformat": 4,
 "nbformat_minor": 2
}
