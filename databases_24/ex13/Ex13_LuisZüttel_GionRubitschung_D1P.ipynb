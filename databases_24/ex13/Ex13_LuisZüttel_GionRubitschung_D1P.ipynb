{
 "cells": [
  {
   "cell_type": "markdown",
   "metadata": {},
   "source": [
    "Gegeben sei Schema\n",
    "\n",
    "&emsp;&emsp;&emsp;$R = (A,B,C,D,E)$\n",
    "\n",
    "mit den funktionalen Abhängigkeiten\n",
    "\n",
    "&emsp;&emsp;&emsp;$F = \\{A \\rightarrow BC,CD \\rightarrow E,B \\rightarrow D, E \\rightarrow A\\}$"
   ]
  },
  {
   "cell_type": "markdown",
   "metadata": {},
   "source": [
    "# Exercise 1 (3NF)\n",
    "\n",
    "Ist das Schema in 3NF? Begründen Sie Ihre Antwort."
   ]
  },
  {
   "cell_type": "markdown",
   "metadata": {},
   "source": [
    "Ja, das Schema ist in 3NF, da die linke Seite der funktionalen Abhängigketen den super / candidate-keys von $R$ entsprechen.\n",
    "\n",
    "Candidate Keys = $A$, $E$, $BC$ und $CD$."
   ]
  },
  {
   "cell_type": "markdown",
   "metadata": {},
   "source": [
    "# Exercise 2 (Dependency Preservation)\n",
    "\n",
    "Ist die Zerlegung des Schemas in $R_1 = (B, D)$ und $R_2 = (A,B,C,E)$ abhängigkeitserhaltend? (dependency preserving)?"
   ]
  },
  {
   "cell_type": "markdown",
   "metadata": {},
   "source": [
    "Nein, da für die funktionale Abhängigkeit $B \\rightarrow D$ müsste man von dem Schema $R_2$ den Join berechnen und ist somit nicht abhängigkeitserhaltend."
   ]
  }
 ],
 "metadata": {
  "kernelspec": {
   "display_name": "databases-24-UT-w7X0b-py3.12",
   "language": "python",
   "name": "python3"
  },
  "language_info": {
   "name": "python",
   "version": "3.12.2"
  }
 },
 "nbformat": 4,
 "nbformat_minor": 2
}
