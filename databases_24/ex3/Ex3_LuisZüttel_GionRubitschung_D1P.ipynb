{
 "cells": [
  {
   "cell_type": "markdown",
   "metadata": {},
   "source": [
    "# Aufgabe 1\n",
    "\n",
    "Folgende Relation sagt aus an welchen Tagen Sie sich mit welcher Person an welchem Ort getroffen haben. (Die Relation macht keine Aussagen darüber, wie oft wir uns mit einer Person and einem Tag an einem Ort getroffen haben, falls das mehrfach passiert ist, und das ist auch nicht beabsichtigt.)\n",
    "\n",
    "| person | place | date     |\n",
    "| ------ | ----- | -------- |\n",
    "| alice  | bar   | 1.1.2017 |\n",
    "| bob    | bar   | 2.2.2017 |\n",
    "| bob    | cafe  | 3.3.2017 |\n",
    "\n",
    "1. Bestimmen Sie alle superkeys für die gegeben Relation.\n",
    "\n",
    "Aus den gegebenen Relationen können folgende superkeys ausgelesen werden.\n",
    "\n",
    "$K_1 = \\{date\\}$\n",
    "\n",
    "$K_2 = \\{person, place\\}$\n",
    "\n",
    "$K_3 = \\{person, date\\}$\n",
    "\n",
    "$K_4 = \\{place, date\\}$\n",
    "\n",
    "$K_5 = \\{person, place, date\\}$\n",
    "\n",
    "2. Bestimmen Sie alle candidate keys für die gegebene Relation.\n",
    "\n",
    "Von den obigen superkeys können wir bereits alle superkeys entfernen die ein $date$ in der Menge enthalten, da ein $date$ alleine bereits ein superkey $K_1$ darstellt. Folglich sind $K_1$ und $K_2$ candidate keys.\n",
    "\n",
    "3. Bestimmen Sie alle superkeys für das gegebene Relationsschema.\n",
    "\n",
    "Nach dem Relationsschema macht es wenig Sinn hier einen superkey zu bestimmen. Um einen superkey zu bestimmen müssen wir mit Restriktionen arbeiten:\n",
    "\n",
    "Wenn wir sagen wir können eine Person nur einmal an einem Tag an einem Ort treffen, macht nur der superkey $K_5$ sinn.\n",
    "Alle anderen superkeys könnten zukünftig zu einem redundanten Eintrag führen und sind somit keine validen superkeys.\n",
    "\n",
    "Wenn wir die Tabelle noch restriktiver gestalten und sage eine Person kann nur einmal an einem Datum getroffen werden, macht der $K_3$ und $K_5$ superkey sinn.\n",
    "\n",
    "Beide Restriktionen sind jedoch in einem echt Welt Szenario nicht realistisch und die Tabelle müsste zum Beispiel durch ein Attribut $id$ ergänzt werden, die für jede relation $r$ einzigartig ist.\n",
    "\n",
    "4. Bestimmen Sie alle candidate keys für das gegebene Relationsschema.\n",
    "\n",
    "Auch hier macht es nicht wirklich sinn einen candidate key zu setzen aus den selben Gründen wie aus `3.`. Damit candidate keys sinn machen muss wieder mit restriktionen argumentiert werden.\n",
    "\n",
    "In der ersten Restriktion haben wir nur einen einzelnen superkey $K_5$, dementsprechend wäre dies auch unser candidate key.\n",
    "\n",
    "In der zweiten Restriktion können wir das attribut $place$ für einen key ignorieren, dementsprechend macht hier der superkey $K_3$ als candidate key sinn.\n",
    "\n",
    "5. Welchen primary key würden Sie wählen und warum?\n",
    "\n",
    "In einem echt Welt Szenario würde keine Kombination der Attribute Sinn machen für einen primary key. Die erste restriktion kommt einem echt Welt Szenario am nächsten und würde deswegen $K_5$ als primary key wählen."
   ]
  }
 ],
 "metadata": {
  "language_info": {
   "name": "python"
  }
 },
 "nbformat": 4,
 "nbformat_minor": 2
}
