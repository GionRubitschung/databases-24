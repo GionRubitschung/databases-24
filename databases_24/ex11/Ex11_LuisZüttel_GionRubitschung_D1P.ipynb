{
 "cells": [
  {
   "cell_type": "markdown",
   "metadata": {},
   "source": [
    "# Exercise 11 (Functional Dependencies of a Relation)\n",
    "\n",
    "Finden Sie alle nicht-trivialen, single-conclusion funktionalen Abhängigkeiten, die diese Relation erfüllt.\n",
    "\n",
    "|$A$|$B$|$C$|$D$|\n",
    "|-|-|-|-|\n",
    "|$a_1$|$b_1$|$c_1$|$d_1$|\n",
    "|$a_1$|$b_2$|$c_1$|$d_2$|\n",
    "|$a_2$|$b_2$|$c_2$|$d_2$|\n",
    "|$a_2$|$b_3$|$c_2$|$d_3$|\n",
    "|$a_3$|$b_3$|$c_2$|$d_4$|"
   ]
  },
  {
   "cell_type": "markdown",
   "metadata": {},
   "source": [
    "$A -> C$<br>\n",
    "$D -> B$<br>\n",
    "${A,B} -> C$<br>\n",
    "${A,B} -> D$<br>\n",
    "${C,D} -> A$<br>\n",
    "${C,D} -> B$<br>\n",
    "${A,D} -> B$<br>\n",
    "${A,D} -> C$<br>\n",
    "${A,B,C} -> D$<br>\n",
    "${A,B,D} -> C$<br>\n",
    "${A,C,D} -> B$<br>\n",
    "${B,C,D} -> A$<br>\n"
   ]
  },
  {
   "cell_type": "markdown",
   "metadata": {},
   "source": [
    "# Exercise 2 (Computing a Closure)\n",
    "\n",
    "Gegeben ist $ F = \\{A \\rightarrow B, B \\rightarrow C, BC \\rightarrow A\\}$.\n",
    "\n",
    "Finden Sie alle nicht-trivialen, single-conclusion funktionalen Abhängigkeiten in $F^+$."
   ]
  },
  {
   "cell_type": "markdown",
   "metadata": {},
   "source": [
    "$A -> B$<br>\n",
    "$A -> C$<br>\n",
    "$B -> C$<br>\n",
    "${A,B} -> C$<br>\n",
    "${A,C} -> B$<br>\n",
    "${B,C} -> A$<br>"
   ]
  },
  {
   "cell_type": "markdown",
   "metadata": {},
   "source": [
    "# Exercise 3 (Checking for BCNF)\n",
    "\n",
    "Gegeben ist das Relationsschema\n",
    "\n",
    "&emsp;&emsp;&emsp;&emsp;$Reisen1(Destination, Reisebüro, Kunde)$.\n",
    "\n",
    "Legale Relationen sind alle die, die weltweit zu einem beliebigen Zeitpunkt beschreiben wer bei einem Reisebüro eine Reise zur Destination gebucht hat. <br>\n",
    "Gegeben ist weiterhin das Relationsschema\n",
    "\n",
    "&emsp;&emsp;&emsp;&emsp;$Reisen2(Destination, LieblingsReisebüro, Kunde)$.\n",
    "\n",
    "Legale Relationen sind wie vorher, allerdings wird für jeden Kunden nur sein Lieblingsreisebüro erfasst (und die darüber gebuchten Reisen).\n",
    "\n",
    "Beantworten Sie für $Reisen1$ und für $Reisen2$ jeweils folgende Fragen:"
   ]
  },
  {
   "cell_type": "markdown",
   "metadata": {},
   "source": [
    "1.  Ist in dem Schema Redundanz möglich? Wenn ja, dann geben Sie dazu jeweils ein Beispiel für eine Tabelle in der Information redundant gespeichert ist.\n",
    "\n"
   ]
  },
  {
   "cell_type": "markdown",
   "metadata": {},
   "source": [
    "2.  Geben Sie alle nicht-trivialen, single-conclusion funktionalen Abhängigkeiten an, die im Schema gelten.\n",
    "\n"
   ]
  },
  {
   "cell_type": "markdown",
   "metadata": {},
   "source": [
    "3.  Ist das Schema in BCNF?\n",
    "\n"
   ]
  },
  {
   "cell_type": "markdown",
   "metadata": {},
   "source": [
    "4.  Wie sollte man ggf. das Schema ändern, um die gefundenen Redundanzen zu vermeiden?\n",
    "\n"
   ]
  }
 ],
 "metadata": {
  "kernelspec": {
   "display_name": "databases-24-UT-w7X0b-py3.12",
   "language": "python",
   "name": "python3"
  },
  "language_info": {
   "name": "python",
   "version": "3.12.2"
  }
 },
 "nbformat": 4,
 "nbformat_minor": 2
}
