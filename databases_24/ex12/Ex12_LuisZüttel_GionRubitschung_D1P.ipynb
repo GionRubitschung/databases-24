{
 "cells": [
  {
   "cell_type": "markdown",
   "metadata": {},
   "source": [
    "Gegeben sei Schema\n",
    "\n",
    "&emsp;&emsp;&emsp;$R = (A,B,C,D,E)$\n",
    "\n",
    "mit den funktionalen Abhängigkeiten\n",
    "\n",
    "&emsp;&emsp;&emsp;$F = \\{ A \\rightarrow BC, CD \\rightarrow E, B \\rightarrow D, E \\rightarrow A\\}$"
   ]
  },
  {
   "cell_type": "markdown",
   "metadata": {},
   "source": [
    "# Exercise 1 (Armstrongs Axioms)\n",
    "\n",
    "Zeigen Sie, dass aus $F$ die funktionale Abhängigkeit $BC \\rightarrow A$ folgt. Oder in anderen Worten, dass $BC \\rightarrow A$ in $F^+$ enthalten ist."
   ]
  },
  {
   "cell_type": "markdown",
   "metadata": {},
   "source": [
    "$ E \\rightarrow A $\n",
    "\n",
    "$ CD \\rightarrow E $\n",
    "\n",
    "$ E \\rightarrow A $ kann also durch auch durch $ CD \\rightarrow E $ ausgedrückt werden.\n",
    "\n",
    "$ CD \\rightarrow A $ kann wegen $ B \\rightarrow D $ auch als $ CB \\rightarrow A $ ausgedrückt werden, was dasselbe wie $ BC \\rightarrow A $ ist."
   ]
  },
  {
   "cell_type": "markdown",
   "metadata": {},
   "source": [
    "# Exercise 2 (Lossless Decomposition)\n",
    "\n",
    "1.  Zeigen Sie, dass die Zerlegung in $(A,B,C)$ und $(A,D,E)$ verlustfrei ist.\n",
    "\n",
    "    $R^1 = (A,B,C)$ und $R^2 = (A,D,E)$\n",
    "\n",
    "    $R^1 \\cap R^2 = (A)$\n",
    "\n",
    "    Mit $A$ kann $B$ wie auch $C$ von $R^1$ bestimmt werden.</br>\n",
    "    Die Attribute von $R^2$ können durch implizierte Funktionalitäten bestimmt werden. Für $D$ durch $B \\rightarrow D$, also $A \\rightarrow D$. Und danach mit Augmentation von $C$ dann auch $E$, also $AC \\rightarrow E$.\n"
   ]
  },
  {
   "cell_type": "markdown",
   "metadata": {},
   "source": [
    "2.  Zeigen Sie, dass die Zerlegung in $(A,B,C)$ und $(C,D,E)$ nicht verlustfrei ist.\n",
    "   \n",
    "    $ R_1 = (A,B,C) $, $ R_2 = (C,D,E) $\n",
    "\n",
    "    $ R_1 \\cap R_2 = (C) $\n",
    "\n",
    "    Durch $ C $ kann weder $ R_1 $ noch $ R_2 $ hergeleitet werden, da in keiner der Funktionalen Abhängigkeiten $ C $ als einzelner Superkey vorkommt."
   ]
  },
  {
   "cell_type": "markdown",
   "metadata": {},
   "source": [
    "3.  Finden Sie eine Relation $r$ des Schemas $R$, welche bei der Zerlegung Information verliert, d.h. $\\pi_{ABC}(r) \\bowtie \\pi_{CDE}(r) \\neq r$.\n",
    "\n",
    "    $r$ :\n",
    "\n",
    "    | A   | B   | C   | D   | E   |\n",
    "    | --- | --- | --- | --- | --- |\n",
    "    | a1  | b1  | c1  | d1  | e1  |\n",
    "    | a2  | b2  | c1  | d2  | e2  |\n",
    "\n",
    "    $\\pi_{ABC}(r)$ :\n",
    "\n",
    "    | A   | B   | C   |\n",
    "    | --- | --- | --- |\n",
    "    | a1  | b1  | c1  |\n",
    "    | a2  | b2  | c1  |\n",
    "\n",
    "    $\\pi_{CDE}(r)$ :\n",
    "\n",
    "    | C   | D   | E   |\n",
    "    | --- | --- | --- |\n",
    "    | c1  | d1  | e1  |\n",
    "    | c1  | d2  | e2  |\n",
    "\n",
    "    $\\pi_{ABC}(r) \\bowtie \\pi_{CDE}(r) \\neq r$\n",
    "\n",
    "    | A   | B   | C   | D   | E   |\n",
    "    | --- | --- | --- | --- | --- |\n",
    "    | a1  | b1  | c1  | d1  | e1  |\n",
    "    | a1  | b1  | c1  | d2  | e2  |\n",
    "    | a2  | b2  | c1  | d1  | e1  |\n",
    "    | a2  | b2  | c1  | d2  | e2  |\n",
    "\n",
    "    $ \\Rightarrow \\pi_{ABC}(r) \\bowtie \\pi_{CDE}(r) \\neq r $\n"
   ]
  },
  {
   "cell_type": "markdown",
   "metadata": {},
   "source": [
    "# Exercise 3 (Find Candidate Keys)\n",
    "\n",
    "Geben sie alle Schlüsselkandidaten für $R$ an."
   ]
  },
  {
   "cell_type": "markdown",
   "metadata": {},
   "source": [
    "$A$ ist ein Candidate Key, weil $A \\rightarrow BC$, $B \\rightarrow D$ und $CD \\rightarrow E$ bedeuten, dass $A$ alle Attribute bestimmen kann.\n",
    "\n",
    "$E$ ist ein Candidate Key, weil $E \\rightarrow A$ und $A$ ein Candidate Key ist, was bedeutet, dass $E$ alle Attribute bestimmen kann.\n",
    "\n",
    "$BC$ ist ein Candidate Key, weil $BC$ $D$ durch $B \\rightarrow D$ und $E$ durch $CD \\rightarrow E$ bestimmen kann.\n",
    "\n",
    "$CD$ ist ein Candidate Key, weil $CD$ $E$ durch $CD \\rightarrow E$ und $A$ durch $E \\rightarrow A$ bestimmen kann. Da $A$ ein Candidate Key ist, kann $CD$ alle Attribute bestimmen.\n",
    "\n",
    "Daher sind die Candidate Key $A$, $E$, $BC$ und $CD$."
   ]
  },
  {
   "cell_type": "markdown",
   "metadata": {},
   "source": [
    "# Exercise 4 (BCNF Decomposition)\n",
    "\n",
    "Zerlegen Sie $R$ mit dem BCNF-Dekompositionsalgorithmus."
   ]
  },
  {
   "cell_type": "markdown",
   "metadata": {},
   "source": []
  }
 ],
 "metadata": {
  "language_info": {
   "name": "python"
  }
 },
 "nbformat": 4,
 "nbformat_minor": 2
}
