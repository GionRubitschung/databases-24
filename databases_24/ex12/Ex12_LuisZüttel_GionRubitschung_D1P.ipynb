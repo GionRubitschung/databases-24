{
 "cells": [
  {
   "cell_type": "markdown",
   "metadata": {},
   "source": [
    "Gegeben sei Schema\n",
    "\n",
    "&emsp;&emsp;&emsp;$R = (A,B,C,D,E)$\n",
    "\n",
    "mit den funktionalen Abhängigkeiten\n",
    "\n",
    "&emsp;&emsp;&emsp;$F = \\{ A \\rightarrow BC, CD \\rightarrow E, B \\rightarrow D, E \\rightarrow A\\}$"
   ]
  },
  {
   "cell_type": "markdown",
   "metadata": {},
   "source": [
    "# Exercise 1 (Armstrongs Axioms)\n",
    "\n",
    "Zeigen Sie, dass aus $F$ die funktionale Abhängigkeit $BC \\rightarrow A$ folgt. Oder in anderen Worten, dass $BC \\rightarrow A$ in $F^+$ enthalten ist."
   ]
  },
  {
   "cell_type": "markdown",
   "metadata": {},
   "source": [
    "$ E \\rightarrow A $\n",
    "\n",
    "$ CD \\rightarrow E $\n",
    "\n",
    "$ E \\rightarrow A $ kann also durch auch durch $ CD \\rightarrow E $ ausgedrückt werden.\n",
    "\n",
    "$ CD \\rightarrow A $ kann wegen $ B \\rightarrow D $ auch als $ CB \\rightarrow A $ ausgedrückt werden, was dasselbe wie $ BC \\rightarrow A $ ist."
   ]
  },
  {
   "cell_type": "markdown",
   "metadata": {},
   "source": [
    "# Exercise 2 (Lossless Decomposition)\n",
    "\n",
    "1.  Zeigen Sie, dass die Zerlegung in $(A,B,C)$ und $(A,D,E)$ verlustfrei ist.\n",
    "\n",
    "    $R^1 = (A,B,C)$ und $R^2 = (A,D,E)$\n",
    "\n",
    "    $R^1 \\cap R^2 = (A)$\n",
    "\n",
    "    Mit $A$ kann $B$ wie auch $C$ von $R^1$ bestimmt werden.</br>\n",
    "    Die Attribute von $R^2$ können durch implizierte Funktionalitäten bestimmt werden. Für $D$ durch $B \\rightarrow D$, also $A \\rightarrow D$. Und danach mit Augmentation von $C$ dann auch $E$, also $AC \\rightarrow E$.\n"
   ]
  },
  {
   "cell_type": "markdown",
   "metadata": {},
   "source": [
    "2.  Zeigen Sie, dass die Zerlegung in $(A,B,C)$ und $(C,D,E)$ nicht verlustfrei ist.\n",
    "   \n",
    "    $ R_1 = (A,B,C) $, $ R_2 = (C,D,E) $\n",
    "\n",
    "    $ R_1 \\cap R_2 = (C) $\n",
    "\n",
    "    Durch $ C $ kann weder $ R_1 $ noch $ R_2 $ hergeleitet werden, da in keiner der Funktionalen Abhängigkeiten $ C $ als einzelner Superkey vorkommt."
   ]
  },
  {
   "cell_type": "markdown",
   "metadata": {},
   "source": [
    "3.  Finden Sie eine Relation $r$ des Schemas $R$, welche bei der Zerlegung Information verliert, d.h. $\\pi_{ABC}(r) \\bowtie \\pi_{CDE}(r) \\neq r$.\n",
    "\n",
    "    $r$ :\n",
    "\n",
    "    | A   | B   | C   | D   | E   |\n",
    "    | --- | --- | --- | --- | --- |\n",
    "    | a1  | b1  | c1  | d1  | e1  |\n",
    "    | a2  | b2  | c1  | d2  | e2  |\n",
    "\n",
    "    $\\pi_{ABC}(r)$ :\n",
    "\n",
    "    | A   | B   | C   |\n",
    "    | --- | --- | --- |\n",
    "    | a1  | b1  | c1  |\n",
    "    | a2  | b2  | c1  |\n",
    "\n",
    "    $\\pi_{CDE}(r)$ :\n",
    "\n",
    "    | C   | D   | E   |\n",
    "    | --- | --- | --- |\n",
    "    | c1  | d1  | e1  |\n",
    "    | c1  | d2  | e2  |\n",
    "\n",
    "    $\\pi_{ABC}(r) \\bowtie \\pi_{CDE}(r) \\neq r$\n",
    "\n",
    "    | A   | B   | C   | D   | E   |\n",
    "    | --- | --- | --- | --- | --- |\n",
    "    | a1  | b1  | c1  | d1  | e1  |\n",
    "    | a1  | b1  | c1  | d2  | e2  |\n",
    "    | a2  | b2  | c1  | d1  | e1  |\n",
    "    | a2  | b2  | c1  | d2  | e2  |\n",
    "\n",
    "    $ \\Rightarrow \\pi_{ABC}(r) \\bowtie \\pi_{CDE}(r) \\neq r $\n"
   ]
  },
  {
   "cell_type": "markdown",
   "metadata": {},
   "source": [
    "# Exercise 3 (Find Candidate Keys)\n",
    "\n",
    "Geben sie alle Schlüsselkandidaten für $R$ an."
   ]
  },
  {
   "cell_type": "markdown",
   "metadata": {},
   "source": [
    "$ K_{1} = \\{A\\} $\n",
    "\n",
    "$ K_{2} = \\{B\\} $\n",
    "\n",
    "$ K_{3} = \\{C\\} $\n",
    "\n",
    "$ K_{4} = \\{D\\} $\n",
    "\n",
    "$ K_{5} = \\{E\\} $\n",
    "\n",
    "$ K_{12} = \\{A,B\\} $\n",
    "\n",
    "$ K_{13} = \\{A,C\\} $\n",
    "\n",
    "$ K_{14} = \\{A,D\\} $\n",
    "\n",
    "$ K_{15} = \\{A,E\\} $\n",
    "\n",
    "$ K_{23} = \\{B,C\\} $\n",
    "\n",
    "$ K_{24} = \\{B,D\\} $\n",
    "\n",
    "$ K_{25} = \\{B,E\\} $\n",
    "\n",
    "$ K_{34} = \\{C,D\\} $\n",
    "\n",
    "$ K_{35} = \\{C,E\\} $\n",
    "\n",
    "$ K_{45} = \\{D,E\\} $\n",
    "\n",
    "$ K_{123} = \\{A,B,C\\} $\n",
    "\n",
    "$ K_{124} = \\{A,B,D\\} $\n",
    "\n",
    "$ K_{125} = \\{A,B,E\\} $\n",
    "\n",
    "$ K_{134} = \\{A,C,D\\} $\n",
    "\n",
    "$ K_{135} = \\{A,C,E\\} $\n",
    "\n",
    "$ K_{145} = \\{A,D,E\\} $\n",
    "\n",
    "$ K_{234} = \\{B,C,D\\} $\n",
    "\n",
    "$ K_{235} = \\{B,C,E\\} $\n",
    "\n",
    "$ K_{245} = \\{B,D,E\\} $\n",
    "\n",
    "$ K_{345} = \\{C,D,E\\} $\n",
    "\n",
    "$ K_{1234} = \\{A,B,C,D\\} $\n",
    "\n",
    "$ K_{1235} = \\{A,B,C,E\\} $\n",
    "\n",
    "$ K_{1245} = \\{A,B,D,E\\} $\n",
    "\n",
    "$ K_{1345} = \\{A,C,D,E\\} $\n",
    "\n",
    "$ K_{2345} = \\{B,C,D,E\\} $\n",
    "\n",
    "$ K_{12345} = \\{A,B,C,D,E\\} $\n",
    "\n"
   ]
  },
  {
   "cell_type": "markdown",
   "metadata": {},
   "source": [
    "# Exercise 4 (BCNF Decomposition)\n",
    "\n",
    "Zerlegen Sie $R$ mit dem BCNF-Dekompositionsalgorithmus."
   ]
  },
  {
   "cell_type": "markdown",
   "metadata": {},
   "source": []
  }
 ],
 "metadata": {
  "language_info": {
   "name": "python"
  }
 },
 "nbformat": 4,
 "nbformat_minor": 2
}
