{
 "cells": [
  {
   "cell_type": "markdown",
   "metadata": {},
   "source": [
    "Gegeben sei Schema\n",
    "\n",
    "&emsp;&emsp;&emsp;$R = (A,B,C,D,E)$\n",
    "\n",
    "mit den funktionalen Abhängigkeiten\n",
    "\n",
    "&emsp;&emsp;&emsp;$F = \\{ A \\rightarrow BC, CD \\rightarrow E, B \\rightarrow D, E \\rightarrow A\\}$"
   ]
  },
  {
   "cell_type": "markdown",
   "metadata": {},
   "source": [
    "# Exercise 1 (Armstrongs Axioms)\n",
    "\n",
    "Zeigen Sie, dass aus $F$ die funktionale Abhängigkeit $BC \\rightarrow A$ folgt. Oder in anderen Worten, dass $BC \\rightarrow A$ in $F^+$ enthalten ist."
   ]
  },
  {
   "cell_type": "markdown",
   "metadata": {},
   "source": []
  },
  {
   "cell_type": "markdown",
   "metadata": {},
   "source": [
    "# Exercise 2 (Lossless Decomposition)\n",
    "\n",
    "1.  Zeigen Sie, dass die Zerlegung in $(A,B,C)$ und $(A,D,E)$ verlustfrei ist.\n",
    "\n"
   ]
  },
  {
   "cell_type": "markdown",
   "metadata": {},
   "source": [
    "2.  "
   ]
  },
  {
   "cell_type": "markdown",
   "metadata": {},
   "source": [
    "3.  "
   ]
  },
  {
   "cell_type": "markdown",
   "metadata": {},
   "source": [
    "# Exercise 3 (Find Candidate Keys)\n",
    "\n",
    "Geben sie alle Schlüsselkandidaten für $R$ an."
   ]
  },
  {
   "cell_type": "markdown",
   "metadata": {},
   "source": []
  },
  {
   "cell_type": "markdown",
   "metadata": {},
   "source": [
    "# Exercise 4 (BCNF Decomposition)\n",
    "\n",
    "Zerlegen Sie $R$ mit dem BCNF-Dekompositionsalgorithmus."
   ]
  },
  {
   "cell_type": "markdown",
   "metadata": {},
   "source": []
  }
 ],
 "metadata": {
  "language_info": {
   "name": "python"
  }
 },
 "nbformat": 4,
 "nbformat_minor": 2
}
