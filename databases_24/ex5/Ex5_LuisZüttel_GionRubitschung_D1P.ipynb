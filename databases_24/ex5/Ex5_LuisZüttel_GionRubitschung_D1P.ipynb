{
 "cells": [
  {
   "cell_type": "markdown",
   "metadata": {},
   "source": [
    "# Aufgabe 1 (Preliminaries)\n",
    "\n",
    "This task requires a working installation of SQLite. The way to install it depends on your platform, but it is usually very easy. For Ubuntu 20.04 it’s just `sudo apt install sqlite3`"
   ]
  },
  {
   "cell_type": "code",
   "execution_count": null,
   "metadata": {},
   "outputs": [],
   "source": [
    "%load_ext sql"
   ]
  },
  {
   "cell_type": "markdown",
   "metadata": {},
   "source": [
    "# Aufgabe 2 (University Schema)\n",
    "\n",
    "Laden Sie die gegebene SQLite-Datenbank `university.db`"
   ]
  },
  {
   "cell_type": "markdown",
   "metadata": {},
   "source": [
    "1. Schauen Sie sich das Schema an:\n",
    "\n",
    "        `.tables`\n",
    "\n",
    "        `.schema --indent`"
   ]
  },
  {
   "cell_type": "markdown",
   "metadata": {},
   "source": [
    "2. Schauen Sie sich die Instanz an (die Daten in jeder Tabelle):\n",
    "\n",
    "    `select * from <table-name>;`"
   ]
  },
  {
   "cell_type": "markdown",
   "metadata": {},
   "source": [
    "3. Vergleichen Sie mit dem in der Vorlesung dazu gegebenen Schema. Verstehen Sie die Bedeutung der Datensätze in allen diesen Tabellen, die Primary Keys und die Foreign-Key-Beziehungen zwischen den Tabellen. Beantworten Sie insbesondere folgende Fragen:"
   ]
  },
  {
   "cell_type": "markdown",
   "metadata": {},
   "source": [
    "&emsp;&emsp;(a) Wie viele `instructors` kann ein `student` als `advisor` haben? Warum?\n",
    "\n",
    "&emsp;&emsp;Entweder kein oder ein Instruktor. Die `advisor` Tabelle ist eine Zwischentabelle die als eine N zu M relation fungiert, was heisst jeder Student hat entweder genau einen oder keinen Instruktor."
   ]
  },
  {
   "cell_type": "markdown",
   "metadata": {},
   "source": [
    "&emsp;&emsp;(b) Wieviele `students` kann ein `instructor` als `advisor` haben? Warum?\n",
    "\n",
    "```sql\n",
    "CREATE TABLE advisor(\n",
    "  s_ID  varchar(5),\n",
    "  i_ID  varchar(5),\n",
    "  primary key(s_ID),\n",
    "  foreign key(i_ID) references instructor(ID)   on delete set null,\n",
    "  foreign key(s_ID) references student(ID)      on delete cascade\n",
    ");\n",
    "```\n",
    "\n",
    "&emsp;&emsp;Der `instructor` kann der `advisor` für beliebig viele `students` sein. Weil der Primary Key sich nur auf die `students.ID` bezieht und unique sein muss.<br>\n",
    "&emsp;&emsp;Diesselbe `instructor.ID` kann mehrfach aufkommen in Datensätzen als `advisor.i_ID`\n"
   ]
  },
  {
   "cell_type": "markdown",
   "metadata": {},
   "source": [
    "&emsp;&emsp;(c) Warum gibt es keine Foreign-Key-Beziehung von `section` auf `time_slot`?\n",
    "\n",
    "&emsp;&emsp;Das Attribut `time_slot_id` ist in beiden Tabellen `section` und `time_slot` enthalten, jedoch ist es kein Primary Key in der `time_slot` Tabelle, demnach kann es auch keine Foreign-Key-Beziehung geben."
   ]
  },
  {
   "cell_type": "markdown",
   "metadata": {},
   "source": [
    "# Aufgabe 3 (Abfragen mit publications.db)\n",
    "\n",
    "Es ist das umseitige Schema gegeben. Die zugehörige SQLite-Datenbank ist in `publications.db`. Geben Sie SQL-Queries für alle folgenden Aufgaben an. Testen Sie die Queries mit dieser Datenbank."
   ]
  },
  {
   "cell_type": "code",
   "execution_count": 2,
   "metadata": {},
   "outputs": [
    {
     "data": {
      "text/html": [
       "<span style=\"None\">Connecting to &#x27;sqlite:///publications.db&#x27;</span>"
      ],
      "text/plain": [
       "Connecting to 'sqlite:///publications.db'"
      ]
     },
     "metadata": {},
     "output_type": "display_data"
    }
   ],
   "source": [
    "%sql sqlite:///publications.db"
   ]
  },
  {
   "cell_type": "markdown",
   "metadata": {},
   "source": [
    "1. Finden Sie alle Autoren, die in San Francisco wohnen."
   ]
  },
  {
   "cell_type": "code",
   "execution_count": 3,
   "metadata": {
    "vscode": {
     "languageId": "sql"
    }
   },
   "outputs": [
    {
     "data": {
      "text/html": [
       "<span style=\"None\">Running query in &#x27;sqlite:///publications.db&#x27;</span>"
      ],
      "text/plain": [
       "Running query in 'sqlite:///publications.db'"
      ]
     },
     "metadata": {},
     "output_type": "display_data"
    },
    {
     "data": {
      "text/html": [
       "<table>\n",
       "    <thead>\n",
       "        <tr>\n",
       "            <th>lastname</th>\n",
       "            <th>firstname</th>\n",
       "        </tr>\n",
       "    </thead>\n",
       "    <tbody>\n",
       "        <tr>\n",
       "            <td>Locksley</td>\n",
       "            <td>Chastity</td>\n",
       "        </tr>\n",
       "    </tbody>\n",
       "</table>"
      ],
      "text/plain": [
       "+----------+-----------+\n",
       "| lastname | firstname |\n",
       "+----------+-----------+\n",
       "| Locksley |  Chastity |\n",
       "+----------+-----------+"
      ]
     },
     "execution_count": 3,
     "metadata": {},
     "output_type": "execute_result"
    }
   ],
   "source": [
    "%%sql\n",
    "\n",
    "select au_lname as lastname, au_fname as firstname from authors where city = 'San Francisco';"
   ]
  },
  {
   "cell_type": "markdown",
   "metadata": {},
   "source": [
    "2. Wieviele Titel beginnen mit 'S'?"
   ]
  },
  {
   "cell_type": "code",
   "execution_count": 4,
   "metadata": {
    "vscode": {
     "languageId": "sql"
    }
   },
   "outputs": [
    {
     "data": {
      "text/html": [
       "<span style=\"None\">Running query in &#x27;sqlite:///publications.db&#x27;</span>"
      ],
      "text/plain": [
       "Running query in 'sqlite:///publications.db'"
      ]
     },
     "metadata": {},
     "output_type": "display_data"
    },
    {
     "data": {
      "text/html": [
       "<table>\n",
       "    <thead>\n",
       "        <tr>\n",
       "            <th>titles_starting_with_s</th>\n",
       "        </tr>\n",
       "    </thead>\n",
       "    <tbody>\n",
       "        <tr>\n",
       "            <td>4</td>\n",
       "        </tr>\n",
       "    </tbody>\n",
       "</table>"
      ],
      "text/plain": [
       "+------------------------+\n",
       "| titles_starting_with_s |\n",
       "+------------------------+\n",
       "|           4            |\n",
       "+------------------------+"
      ]
     },
     "execution_count": 4,
     "metadata": {},
     "output_type": "execute_result"
    }
   ],
   "source": [
    "%%sql\n",
    "\n",
    "select count(*) as titles_starting_with_s from titles where title like 'S%';"
   ]
  },
  {
   "cell_type": "markdown",
   "metadata": {},
   "source": [
    "3. Bestimmen Sie den durchschnittlichen Preis eines Titels."
   ]
  },
  {
   "cell_type": "code",
   "execution_count": 5,
   "metadata": {
    "vscode": {
     "languageId": "sql"
    }
   },
   "outputs": [
    {
     "data": {
      "text/html": [
       "<span style=\"None\">Running query in &#x27;sqlite:///publications.db&#x27;</span>"
      ],
      "text/plain": [
       "Running query in 'sqlite:///publications.db'"
      ]
     },
     "metadata": {},
     "output_type": "display_data"
    },
    {
     "data": {
      "text/html": [
       "<table>\n",
       "    <thead>\n",
       "        <tr>\n",
       "            <th>average_price</th>\n",
       "        </tr>\n",
       "    </thead>\n",
       "    <tbody>\n",
       "        <tr>\n",
       "            <td>14.76625</td>\n",
       "        </tr>\n",
       "    </tbody>\n",
       "</table>"
      ],
      "text/plain": [
       "+---------------+\n",
       "| average_price |\n",
       "+---------------+\n",
       "|    14.76625   |\n",
       "+---------------+"
      ]
     },
     "execution_count": 5,
     "metadata": {},
     "output_type": "execute_result"
    }
   ],
   "source": [
    "%%sql\n",
    "\n",
    "select avg(price) as average_price from titles;"
   ]
  },
  {
   "cell_type": "markdown",
   "metadata": {},
   "source": [
    "4. Geben Sie das Datum aller Verkäufe des Ladens 'Bookbeat' an."
   ]
  },
  {
   "cell_type": "code",
   "execution_count": 6,
   "metadata": {
    "vscode": {
     "languageId": "sql"
    }
   },
   "outputs": [
    {
     "data": {
      "text/html": [
       "<span style=\"None\">Running query in &#x27;sqlite:///publications.db&#x27;</span>"
      ],
      "text/plain": [
       "Running query in 'sqlite:///publications.db'"
      ]
     },
     "metadata": {},
     "output_type": "display_data"
    },
    {
     "data": {
      "text/html": [
       "<table>\n",
       "    <thead>\n",
       "        <tr>\n",
       "            <th>date</th>\n",
       "        </tr>\n",
       "    </thead>\n",
       "    <tbody>\n",
       "        <tr>\n",
       "            <td>1986-07-13 00:00:00</td>\n",
       "        </tr>\n",
       "        <tr>\n",
       "            <td>1989-05-23 00:00:00</td>\n",
       "        </tr>\n",
       "        <tr>\n",
       "            <td>1988-01-13 00:00:00</td>\n",
       "        </tr>\n",
       "        <tr>\n",
       "            <td>1991-03-20 00:00:00</td>\n",
       "        </tr>\n",
       "        <tr>\n",
       "            <td>1991-03-20 00:00:00</td>\n",
       "        </tr>\n",
       "        <tr>\n",
       "            <td>1991-03-20 00:00:00</td>\n",
       "        </tr>\n",
       "    </tbody>\n",
       "</table>"
      ],
      "text/plain": [
       "+---------------------+\n",
       "|         date        |\n",
       "+---------------------+\n",
       "| 1986-07-13 00:00:00 |\n",
       "| 1989-05-23 00:00:00 |\n",
       "| 1988-01-13 00:00:00 |\n",
       "| 1991-03-20 00:00:00 |\n",
       "| 1991-03-20 00:00:00 |\n",
       "| 1991-03-20 00:00:00 |\n",
       "+---------------------+"
      ]
     },
     "execution_count": 6,
     "metadata": {},
     "output_type": "execute_result"
    }
   ],
   "source": [
    "%%sql\n",
    "\n",
    "select sales.date from sales\n",
    "  join stores on sales.stor_id = stores.stor_id\n",
    "where stores.stor_name = 'Bookbeat';"
   ]
  },
  {
   "cell_type": "markdown",
   "metadata": {},
   "source": [
    "5. Geben Sie alle Titel aus, die im Laden 'Bookbeat' verkauft wurden."
   ]
  },
  {
   "cell_type": "code",
   "execution_count": 7,
   "metadata": {
    "vscode": {
     "languageId": "sql"
    }
   },
   "outputs": [
    {
     "data": {
      "text/html": [
       "<span style=\"None\">Running query in &#x27;sqlite:///publications.db&#x27;</span>"
      ],
      "text/plain": [
       "Running query in 'sqlite:///publications.db'"
      ]
     },
     "metadata": {},
     "output_type": "display_data"
    },
    {
     "data": {
      "text/html": [
       "<table>\n",
       "    <thead>\n",
       "        <tr>\n",
       "            <th>title</th>\n",
       "        </tr>\n",
       "    </thead>\n",
       "    <tbody>\n",
       "        <tr>\n",
       "            <td>Prolonged Data Deprivation: Four Case Studies</td>\n",
       "        </tr>\n",
       "        <tr>\n",
       "            <td>Onions, Leeks, and Garlic: Cooking Secrets of the Mediterranean</td>\n",
       "        </tr>\n",
       "        <tr>\n",
       "            <td>Life Without Fear</td>\n",
       "        </tr>\n",
       "        <tr>\n",
       "            <td>The Gourmet Microwave</td>\n",
       "        </tr>\n",
       "        <tr>\n",
       "            <td>Straight Talk About Computers</td>\n",
       "        </tr>\n",
       "        <tr>\n",
       "            <td>You Can Combat Computer Stress!</td>\n",
       "        </tr>\n",
       "        <tr>\n",
       "            <td>The Busy Executive's Database Guide</td>\n",
       "        </tr>\n",
       "        <tr>\n",
       "            <td>But Is It User Friendly?</td>\n",
       "        </tr>\n",
       "        <tr>\n",
       "            <td>Emotional Security: A New Algorithm</td>\n",
       "        </tr>\n",
       "        <tr>\n",
       "            <td>Fifty Years in Buckingham Palace Kitchens</td>\n",
       "        </tr>\n",
       "    </tbody>\n",
       "</table>\n",
       "<span style=\"font-style:italic;text-align:center;\">Truncated to <a href=\"https://jupysql.ploomber.io/en/latest/api/configuration.html#displaylimit\">displaylimit</a> of 10.</span>"
      ],
      "text/plain": [
       "+-----------------------------------------------------------------+\n",
       "|                              title                              |\n",
       "+-----------------------------------------------------------------+\n",
       "|          Prolonged Data Deprivation: Four Case Studies          |\n",
       "| Onions, Leeks, and Garlic: Cooking Secrets of the Mediterranean |\n",
       "|                        Life Without Fear                        |\n",
       "|                      The Gourmet Microwave                      |\n",
       "|                  Straight Talk About Computers                  |\n",
       "|                 You Can Combat Computer Stress!                 |\n",
       "|               The Busy Executive's Database Guide               |\n",
       "|                     But Is It User Friendly?                    |\n",
       "|               Emotional Security: A New Algorithm               |\n",
       "|            Fifty Years in Buckingham Palace Kitchens            |\n",
       "+-----------------------------------------------------------------+\n",
       "Truncated to displaylimit of 10."
      ]
     },
     "execution_count": 7,
     "metadata": {},
     "output_type": "execute_result"
    }
   ],
   "source": [
    "%%sql\n",
    "\n",
    "select distinct titles.title from titles\n",
    "  join salesdetail on titles.title_id = salesdetail.title_id\n",
    "  join stores on salesdetail.stor_id = stores.stor_id\n",
    "where stores.stor_name = 'Bookbeat';"
   ]
  },
  {
   "cell_type": "markdown",
   "metadata": {},
   "source": [
    "6. Finden Sie Titel und Preis des teuersten Buches."
   ]
  },
  {
   "cell_type": "code",
   "execution_count": 8,
   "metadata": {
    "vscode": {
     "languageId": "sql"
    }
   },
   "outputs": [
    {
     "data": {
      "text/html": [
       "<span style=\"None\">Running query in &#x27;sqlite:///publications.db&#x27;</span>"
      ],
      "text/plain": [
       "Running query in 'sqlite:///publications.db'"
      ]
     },
     "metadata": {},
     "output_type": "display_data"
    },
    {
     "data": {
      "text/html": [
       "<table>\n",
       "    <thead>\n",
       "        <tr>\n",
       "            <th>cheapest</th>\n",
       "            <th>most_expensive</th>\n",
       "        </tr>\n",
       "    </thead>\n",
       "    <tbody>\n",
       "        <tr>\n",
       "            <td>2.99</td>\n",
       "            <td>22.95</td>\n",
       "        </tr>\n",
       "    </tbody>\n",
       "</table>"
      ],
      "text/plain": [
       "+----------+----------------+\n",
       "| cheapest | most_expensive |\n",
       "+----------+----------------+\n",
       "|   2.99   |     22.95      |\n",
       "+----------+----------------+"
      ]
     },
     "execution_count": 8,
     "metadata": {},
     "output_type": "execute_result"
    }
   ],
   "source": [
    "%%sql\n",
    "\n",
    "select min(price) as cheapest, max(price) as most_expensive from titles;"
   ]
  },
  {
   "cell_type": "markdown",
   "metadata": {},
   "source": [
    "7. Finden Sie sämtliche Bücher, die teurer als das billigste Psychologie-Buch sind."
   ]
  },
  {
   "cell_type": "code",
   "execution_count": 9,
   "metadata": {
    "vscode": {
     "languageId": "sql"
    }
   },
   "outputs": [
    {
     "data": {
      "text/html": [
       "<span style=\"None\">Running query in &#x27;sqlite:///publications.db&#x27;</span>"
      ],
      "text/plain": [
       "Running query in 'sqlite:///publications.db'"
      ]
     },
     "metadata": {},
     "output_type": "display_data"
    },
    {
     "data": {
      "text/html": [
       "<table>\n",
       "    <thead>\n",
       "        <tr>\n",
       "            <th>title</th>\n",
       "        </tr>\n",
       "    </thead>\n",
       "    <tbody>\n",
       "        <tr>\n",
       "            <td>Secrets of Silicon Valley</td>\n",
       "        </tr>\n",
       "        <tr>\n",
       "            <td>The Busy Executive's Database Guide</td>\n",
       "        </tr>\n",
       "        <tr>\n",
       "            <td>Emotional Security: A New Algorithm</td>\n",
       "        </tr>\n",
       "        <tr>\n",
       "            <td>Prolonged Data Deprivation: Four Case Studies</td>\n",
       "        </tr>\n",
       "        <tr>\n",
       "            <td>Cooking with Computers: Surreptitious Balance Sheets</td>\n",
       "        </tr>\n",
       "        <tr>\n",
       "            <td>Silicon Valley Gastronomic Treats</td>\n",
       "        </tr>\n",
       "        <tr>\n",
       "            <td>Sushi, Anyone?</td>\n",
       "        </tr>\n",
       "        <tr>\n",
       "            <td>Fifty Years in Buckingham Palace Kitchens</td>\n",
       "        </tr>\n",
       "        <tr>\n",
       "            <td>But Is It User Friendly?</td>\n",
       "        </tr>\n",
       "        <tr>\n",
       "            <td>Is Anger the Enemy?</td>\n",
       "        </tr>\n",
       "    </tbody>\n",
       "</table>\n",
       "<span style=\"font-style:italic;text-align:center;\">Truncated to <a href=\"https://jupysql.ploomber.io/en/latest/api/configuration.html#displaylimit\">displaylimit</a> of 10.</span>"
      ],
      "text/plain": [
       "+------------------------------------------------------+\n",
       "|                        title                         |\n",
       "+------------------------------------------------------+\n",
       "|              Secrets of Silicon Valley               |\n",
       "|         The Busy Executive's Database Guide          |\n",
       "|         Emotional Security: A New Algorithm          |\n",
       "|    Prolonged Data Deprivation: Four Case Studies     |\n",
       "| Cooking with Computers: Surreptitious Balance Sheets |\n",
       "|          Silicon Valley Gastronomic Treats           |\n",
       "|                    Sushi, Anyone?                    |\n",
       "|      Fifty Years in Buckingham Palace Kitchens       |\n",
       "|               But Is It User Friendly?               |\n",
       "|                 Is Anger the Enemy?                  |\n",
       "+------------------------------------------------------+\n",
       "Truncated to displaylimit of 10."
      ]
     },
     "execution_count": 9,
     "metadata": {},
     "output_type": "execute_result"
    }
   ],
   "source": [
    "%%sql\n",
    "\n",
    "select title from titles\n",
    "where price > (\n",
    "  select min(price) as cheapest from titles\n",
    "  where type like 'psychology%'\n",
    ");"
   ]
  },
  {
   "cell_type": "markdown",
   "metadata": {},
   "source": [
    "8. Finden Sie die Autoren, die in einem Staat wohnen, in dem es keinen der erfassten Läden gibt."
   ]
  },
  {
   "cell_type": "code",
   "execution_count": 10,
   "metadata": {
    "vscode": {
     "languageId": "sql"
    }
   },
   "outputs": [
    {
     "data": {
      "text/html": [
       "<span style=\"None\">Running query in &#x27;sqlite:///publications.db&#x27;</span>"
      ],
      "text/plain": [
       "Running query in 'sqlite:///publications.db'"
      ]
     },
     "metadata": {},
     "output_type": "display_data"
    },
    {
     "data": {
      "text/html": [
       "<table>\n",
       "    <thead>\n",
       "        <tr>\n",
       "            <th>first_name</th>\n",
       "            <th>last_name</th>\n",
       "            <th>state</th>\n",
       "        </tr>\n",
       "    </thead>\n",
       "    <tbody>\n",
       "        <tr>\n",
       "            <td>Albert</td>\n",
       "            <td>Ringer</td>\n",
       "            <td>UT</td>\n",
       "        </tr>\n",
       "        <tr>\n",
       "            <td>Anne</td>\n",
       "            <td>Ringer</td>\n",
       "            <td>UT</td>\n",
       "        </tr>\n",
       "        <tr>\n",
       "            <td>Michel</td>\n",
       "            <td>DeFrance</td>\n",
       "            <td>IN</td>\n",
       "        </tr>\n",
       "        <tr>\n",
       "            <td>Sylvia</td>\n",
       "            <td>Panteley</td>\n",
       "            <td>MD</td>\n",
       "        </tr>\n",
       "        <tr>\n",
       "            <td>Morningstar</td>\n",
       "            <td>Greene</td>\n",
       "            <td>TN</td>\n",
       "        </tr>\n",
       "        <tr>\n",
       "            <td>Innes</td>\n",
       "            <td>del Castillo</td>\n",
       "            <td>MI</td>\n",
       "        </tr>\n",
       "        <tr>\n",
       "            <td>Meander</td>\n",
       "            <td>Smith</td>\n",
       "            <td>KS</td>\n",
       "        </tr>\n",
       "    </tbody>\n",
       "</table>"
      ],
      "text/plain": [
       "+-------------+--------------+-------+\n",
       "|  first_name |  last_name   | state |\n",
       "+-------------+--------------+-------+\n",
       "|    Albert   |    Ringer    |   UT  |\n",
       "|     Anne    |    Ringer    |   UT  |\n",
       "|    Michel   |   DeFrance   |   IN  |\n",
       "|    Sylvia   |   Panteley   |   MD  |\n",
       "| Morningstar |    Greene    |   TN  |\n",
       "|    Innes    | del Castillo |   MI  |\n",
       "|   Meander   |    Smith     |   KS  |\n",
       "+-------------+--------------+-------+"
      ]
     },
     "execution_count": 10,
     "metadata": {},
     "output_type": "execute_result"
    }
   ],
   "source": [
    "%%sql\n",
    "\n",
    "with states_without_stores(state) as (\n",
    "    with authors_states(state) as (select distinct(a.state) from authors as a)\n",
    "    select au_st.state from stores as stor\n",
    "    right join authors_states as au_st on stor.state = au_st.state\n",
    "    where stor.state is null\n",
    ")\n",
    "select a.au_fname as first_name, a.au_lname as last_name, a.state\n",
    "from authors as a, states_without_stores\n",
    "where a.state = states_without_stores.state;"
   ]
  },
  {
   "cell_type": "markdown",
   "metadata": {},
   "source": [
    "9. Geben Sie die Städte an, in denen es sowohl Authoren wie auch Verleger gibt."
   ]
  },
  {
   "cell_type": "code",
   "execution_count": 11,
   "metadata": {
    "vscode": {
     "languageId": "sql"
    }
   },
   "outputs": [
    {
     "data": {
      "text/html": [
       "<span style=\"None\">Running query in &#x27;sqlite:///publications.db&#x27;</span>"
      ],
      "text/plain": [
       "Running query in 'sqlite:///publications.db'"
      ]
     },
     "metadata": {},
     "output_type": "display_data"
    },
    {
     "data": {
      "text/html": [
       "<table>\n",
       "    <thead>\n",
       "        <tr>\n",
       "            <th>city</th>\n",
       "        </tr>\n",
       "    </thead>\n",
       "    <tbody>\n",
       "        <tr>\n",
       "            <td>Berkeley</td>\n",
       "        </tr>\n",
       "    </tbody>\n",
       "</table>"
      ],
      "text/plain": [
       "+----------+\n",
       "|   city   |\n",
       "+----------+\n",
       "| Berkeley |\n",
       "+----------+"
      ]
     },
     "execution_count": 11,
     "metadata": {},
     "output_type": "execute_result"
    }
   ],
   "source": [
    "%%sql\n",
    "\n",
    "with publisher_cities(city) as (\n",
    "    select distinct(city) from publishers\n",
    "),\n",
    "authors_cities(city) as (select distinct(a.city) from authors as a)\n",
    "select authors_cities.city from authors_cities\n",
    "join publisher_cities on authors_cities.city = publisher_cities.city;"
   ]
  },
  {
   "cell_type": "markdown",
   "metadata": {},
   "source": [
    "10. Bestimmen Sie alle Bücher, die den gleichen Typ besitzen wie das Buch 'Net Etiquette'."
   ]
  },
  {
   "cell_type": "code",
   "execution_count": 12,
   "metadata": {
    "vscode": {
     "languageId": "sql"
    }
   },
   "outputs": [
    {
     "data": {
      "text/html": [
       "<span style=\"None\">Running query in &#x27;sqlite:///publications.db&#x27;</span>"
      ],
      "text/plain": [
       "Running query in 'sqlite:///publications.db'"
      ]
     },
     "metadata": {},
     "output_type": "display_data"
    },
    {
     "data": {
      "text/html": [
       "<table>\n",
       "    <thead>\n",
       "        <tr>\n",
       "            <th>title</th>\n",
       "        </tr>\n",
       "    </thead>\n",
       "    <tbody>\n",
       "        <tr>\n",
       "            <td>Secrets of Silicon Valley</td>\n",
       "        </tr>\n",
       "        <tr>\n",
       "            <td>But Is It User Friendly?</td>\n",
       "        </tr>\n",
       "        <tr>\n",
       "            <td>Net Etiquette</td>\n",
       "        </tr>\n",
       "    </tbody>\n",
       "</table>"
      ],
      "text/plain": [
       "+---------------------------+\n",
       "|           title           |\n",
       "+---------------------------+\n",
       "| Secrets of Silicon Valley |\n",
       "|  But Is It User Friendly? |\n",
       "|       Net Etiquette       |\n",
       "+---------------------------+"
      ]
     },
     "execution_count": 12,
     "metadata": {},
     "output_type": "execute_result"
    }
   ],
   "source": [
    "%%sql\n",
    "\n",
    "select title from titles\n",
    "where type like (\n",
    "    select t.type from titles as t\n",
    "    where t.title like 'Net Etiquette'\n",
    ");"
   ]
  },
  {
   "cell_type": "markdown",
   "metadata": {},
   "source": [
    "11. Geben Sie einen SQL Ausdruck an, der die Büchertypen zusammen mit der Anzahl Bücher jedes Typs ausgibt, von denen es mehr als 2 verschiedene Bücher gibt."
   ]
  },
  {
   "cell_type": "code",
   "execution_count": 13,
   "metadata": {
    "vscode": {
     "languageId": "sql"
    }
   },
   "outputs": [
    {
     "data": {
      "text/html": [
       "<span style=\"None\">Running query in &#x27;sqlite:///publications.db&#x27;</span>"
      ],
      "text/plain": [
       "Running query in 'sqlite:///publications.db'"
      ]
     },
     "metadata": {},
     "output_type": "display_data"
    },
    {
     "data": {
      "text/html": [
       "<table>\n",
       "    <thead>\n",
       "        <tr>\n",
       "            <th>type</th>\n",
       "            <th>number_of_books</th>\n",
       "        </tr>\n",
       "    </thead>\n",
       "    <tbody>\n",
       "        <tr>\n",
       "            <td>UNDECIDED   </td>\n",
       "            <td>1</td>\n",
       "        </tr>\n",
       "        <tr>\n",
       "            <td>business    </td>\n",
       "            <td>4</td>\n",
       "        </tr>\n",
       "        <tr>\n",
       "            <td>mod_cook    </td>\n",
       "            <td>2</td>\n",
       "        </tr>\n",
       "        <tr>\n",
       "            <td>popular_comp</td>\n",
       "            <td>3</td>\n",
       "        </tr>\n",
       "        <tr>\n",
       "            <td>psychology  </td>\n",
       "            <td>5</td>\n",
       "        </tr>\n",
       "        <tr>\n",
       "            <td>trad_cook   </td>\n",
       "            <td>3</td>\n",
       "        </tr>\n",
       "    </tbody>\n",
       "</table>"
      ],
      "text/plain": [
       "+--------------+-----------------+\n",
       "|     type     | number_of_books |\n",
       "+--------------+-----------------+\n",
       "| UNDECIDED    |        1        |\n",
       "| business     |        4        |\n",
       "| mod_cook     |        2        |\n",
       "| popular_comp |        3        |\n",
       "| psychology   |        5        |\n",
       "| trad_cook    |        3        |\n",
       "+--------------+-----------------+"
      ]
     },
     "execution_count": 13,
     "metadata": {},
     "output_type": "execute_result"
    }
   ],
   "source": [
    "%%sql\n",
    "\n",
    "select t.type, count(t.type) as number_of_books\n",
    "from titles as t\n",
    "group by t.type;"
   ]
  },
  {
   "cell_type": "markdown",
   "metadata": {},
   "source": [
    "12. Geben Sie einen SQL Ausdruck an, der die Büchertypen zusammen mit der Anzahl Bücher jedes Typs ausgibt, von denen es mehr als 2 verschiedene Bücher gibt."
   ]
  },
  {
   "cell_type": "code",
   "execution_count": 14,
   "metadata": {
    "vscode": {
     "languageId": "sql"
    }
   },
   "outputs": [
    {
     "data": {
      "text/html": [
       "<span style=\"None\">Running query in &#x27;sqlite:///publications.db&#x27;</span>"
      ],
      "text/plain": [
       "Running query in 'sqlite:///publications.db'"
      ]
     },
     "metadata": {},
     "output_type": "display_data"
    },
    {
     "data": {
      "text/html": [
       "<table>\n",
       "    <thead>\n",
       "        <tr>\n",
       "            <th>type</th>\n",
       "            <th>number_of_books</th>\n",
       "        </tr>\n",
       "    </thead>\n",
       "    <tbody>\n",
       "        <tr>\n",
       "            <td>business    </td>\n",
       "            <td>4</td>\n",
       "        </tr>\n",
       "        <tr>\n",
       "            <td>popular_comp</td>\n",
       "            <td>3</td>\n",
       "        </tr>\n",
       "        <tr>\n",
       "            <td>psychology  </td>\n",
       "            <td>5</td>\n",
       "        </tr>\n",
       "        <tr>\n",
       "            <td>trad_cook   </td>\n",
       "            <td>3</td>\n",
       "        </tr>\n",
       "    </tbody>\n",
       "</table>"
      ],
      "text/plain": [
       "+--------------+-----------------+\n",
       "|     type     | number_of_books |\n",
       "+--------------+-----------------+\n",
       "| business     |        4        |\n",
       "| popular_comp |        3        |\n",
       "| psychology   |        5        |\n",
       "| trad_cook    |        3        |\n",
       "+--------------+-----------------+"
      ]
     },
     "execution_count": 14,
     "metadata": {},
     "output_type": "execute_result"
    }
   ],
   "source": [
    "%%sql\n",
    "\n",
    "select t.type, count(t.type) as number_of_books\n",
    "from titles as t\n",
    "group by t.type\n",
    "having count(t.type) > 2;"
   ]
  },
  {
   "cell_type": "markdown",
   "metadata": {},
   "source": [
    "13. Geben Sie einen SQL Ausdruck an, der die Anzahl Autoren pro Staat auflistet, wobei die Ausgabe nach Anzahl Autoren sortiert sein soll."
   ]
  },
  {
   "cell_type": "code",
   "execution_count": 15,
   "metadata": {
    "vscode": {
     "languageId": "sql"
    }
   },
   "outputs": [
    {
     "data": {
      "text/html": [
       "<span style=\"None\">Running query in &#x27;sqlite:///publications.db&#x27;</span>"
      ],
      "text/plain": [
       "Running query in 'sqlite:///publications.db'"
      ]
     },
     "metadata": {},
     "output_type": "display_data"
    },
    {
     "data": {
      "text/html": [
       "<table>\n",
       "    <thead>\n",
       "        <tr>\n",
       "            <th>state</th>\n",
       "            <th>number_of_authors</th>\n",
       "        </tr>\n",
       "    </thead>\n",
       "    <tbody>\n",
       "        <tr>\n",
       "            <td>CA</td>\n",
       "            <td>15</td>\n",
       "        </tr>\n",
       "        <tr>\n",
       "            <td>UT</td>\n",
       "            <td>2</td>\n",
       "        </tr>\n",
       "        <tr>\n",
       "            <td>TN</td>\n",
       "            <td>1</td>\n",
       "        </tr>\n",
       "        <tr>\n",
       "            <td>OR</td>\n",
       "            <td>1</td>\n",
       "        </tr>\n",
       "        <tr>\n",
       "            <td>MI</td>\n",
       "            <td>1</td>\n",
       "        </tr>\n",
       "        <tr>\n",
       "            <td>MD</td>\n",
       "            <td>1</td>\n",
       "        </tr>\n",
       "        <tr>\n",
       "            <td>KS</td>\n",
       "            <td>1</td>\n",
       "        </tr>\n",
       "        <tr>\n",
       "            <td>IN</td>\n",
       "            <td>1</td>\n",
       "        </tr>\n",
       "    </tbody>\n",
       "</table>"
      ],
      "text/plain": [
       "+-------+-------------------+\n",
       "| state | number_of_authors |\n",
       "+-------+-------------------+\n",
       "|   CA  |         15        |\n",
       "|   UT  |         2         |\n",
       "|   TN  |         1         |\n",
       "|   OR  |         1         |\n",
       "|   MI  |         1         |\n",
       "|   MD  |         1         |\n",
       "|   KS  |         1         |\n",
       "|   IN  |         1         |\n",
       "+-------+-------------------+"
      ]
     },
     "execution_count": 15,
     "metadata": {},
     "output_type": "execute_result"
    }
   ],
   "source": [
    "%%sql\n",
    "\n",
    "select a.state, count(a.au_id) as number_of_authors\n",
    "from authors as a\n",
    "group by a.state\n",
    "order by number_of_authors desc;"
   ]
  },
  {
   "cell_type": "markdown",
   "metadata": {},
   "source": [
    "14. Bestimmen Sie alle Publisher, welche weniger Bücher herausgegeben haben als der Durchschnitt."
   ]
  },
  {
   "cell_type": "code",
   "execution_count": 16,
   "metadata": {
    "vscode": {
     "languageId": "sql"
    }
   },
   "outputs": [
    {
     "data": {
      "text/html": [
       "<span style=\"None\">Running query in &#x27;sqlite:///publications.db&#x27;</span>"
      ],
      "text/plain": [
       "Running query in 'sqlite:///publications.db'"
      ]
     },
     "metadata": {},
     "output_type": "display_data"
    },
    {
     "data": {
      "text/html": [
       "<table>\n",
       "    <thead>\n",
       "        <tr>\n",
       "            <th>pub_name</th>\n",
       "        </tr>\n",
       "    </thead>\n",
       "    <tbody>\n",
       "        <tr>\n",
       "            <td>Binnet & Hardley</td>\n",
       "        </tr>\n",
       "    </tbody>\n",
       "</table>"
      ],
      "text/plain": [
       "+------------------+\n",
       "|     pub_name     |\n",
       "+------------------+\n",
       "| Binnet & Hardley |\n",
       "+------------------+"
      ]
     },
     "execution_count": 16,
     "metadata": {},
     "output_type": "execute_result"
    }
   ],
   "source": [
    "%%sql\n",
    "\n",
    "with pub_with_num_books(pub_id, pub_name, number_of_books) as (\n",
    "    select p.pub_id, pub_name, count(t.title_id) as number_of_books\n",
    "    from publishers as p\n",
    "    join titles as t on p.pub_id = t.pub_id\n",
    "    group by p.pub_id\n",
    ")\n",
    "select pub_name from pub_with_num_books\n",
    "where number_of_books > (\n",
    "    select avg(number_of_books) from pub_with_num_books\n",
    ");"
   ]
  }
 ],
 "metadata": {
  "kernelspec": {
   "display_name": ".venv",
   "language": "python",
   "name": "python3"
  },
  "language_info": {
   "codemirror_mode": {
    "name": "ipython",
    "version": 3
   },
   "file_extension": ".py",
   "mimetype": "text/x-python",
   "name": "python",
   "nbconvert_exporter": "python",
   "pygments_lexer": "ipython3",
   "version": "3.12.2"
  }
 },
 "nbformat": 4,
 "nbformat_minor": 2
}
