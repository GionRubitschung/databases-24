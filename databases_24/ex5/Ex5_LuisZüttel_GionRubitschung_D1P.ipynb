{
 "cells": [
  {
   "cell_type": "markdown",
   "metadata": {},
   "source": [
    "# Aufgabe 1 (Preliminaries)\n",
    "\n",
    "This task requires a working installation of SQLite. The way to install it depends on your platform, but it is usually very easy. For Ubuntu 20.04 it’s just `sudo apt install sqlite3`"
   ]
  },
  {
   "cell_type": "code",
   "execution_count": 1,
   "metadata": {},
   "outputs": [],
   "source": [
    "%load_ext sql"
   ]
  },
  {
   "cell_type": "markdown",
   "metadata": {},
   "source": [
    "# Aufgabe 2 (University Schema)\n",
    "\n",
    "Laden Sie die gegebene SQLite-Datenbank `university.db`"
   ]
  },
  {
   "cell_type": "code",
   "execution_count": 2,
   "metadata": {},
   "outputs": [],
   "source": [
    "%sql sqlite:///university.db"
   ]
  },
  {
   "cell_type": "markdown",
   "metadata": {},
   "source": [
    "1. Schauen Sie sich das Schema an:\n",
    "\n",
    "        `.tables`\n",
    "\n",
    "        `.schema --indent`"
   ]
  },
  {
   "cell_type": "markdown",
   "metadata": {},
   "source": [
    "2. Schauen Sie sich die Instanz an (die Daten in jeder Tabelle):\n",
    "\n",
    "    `select * from <table-name>;`"
   ]
  },
  {
   "cell_type": "markdown",
   "metadata": {},
   "source": [
    "3. Vergleichen Sie mit dem in der Vorlesung dazu gegebenen Schema. Verstehen Sie die Bedeutung der Datensätze in allen diesen Tabellen, die Primary Keys und die Foreign-Key-Beziehungen zwischen den Tabellen. Beantworten Sie insbesondere folgende Fragen:"
   ]
  },
  {
   "cell_type": "markdown",
   "metadata": {},
   "source": [
    "&emsp;&emsp;(a) Wie viele `instructors` kann ein `student` als `advisor` haben? Warum?\n",
    "\n",
    "&emsp;&emsp;Entweder kein oder ein Instruktor. Die `advisor` Tabelle ist eine Zwischentabelle die als eine N zu M relation fungiert, was heisst jeder Student hat entweder genau einen oder keinen Instruktor."
   ]
  },
  {
   "cell_type": "markdown",
   "metadata": {},
   "source": [
    "&emsp;&emsp;(b) Wieviele `students` kann ein `instructor` als `advisor` haben? Warum?\n",
    "\n",
    "```sql\n",
    "CREATE TABLE advisor(\n",
    "  s_ID  varchar(5),\n",
    "  i_ID  varchar(5),\n",
    "  primary key(s_ID),\n",
    "  foreign key(i_ID) references instructor(ID)   on delete set null,\n",
    "  foreign key(s_ID) references student(ID)      on delete cascade\n",
    ");\n",
    "```\n",
    "\n",
    "&emsp;&emsp;Der `instructor` kann der `advisor` für beliebig viele `students` sein. Weil der Primary Key sich nur auf die `students.ID` bezieht und unique sein muss.<br>\n",
    "&emsp;&emsp;Diesselbe `instructor.ID` kann mehrfach aufkommen in Datensätzen als `advisor.i_ID`\n"
   ]
  },
  {
   "cell_type": "markdown",
   "metadata": {},
   "source": [
    "&emsp;&emsp;(c) Warum gibt es keine Foreign-Key-Beziehung von `section` auf `time_slot`?\n",
    "\n",
    "&emsp;&emsp;Das Attribut `time_slot_id` ist in beiden Tabellen `section` und `time_slot` enthalten, jedoch ist es kein Primary Key in der `time_slot` Tabelle, demnach kann es auch keine Foreign-Key-Beziehung geben."
   ]
  },
  {
   "cell_type": "markdown",
   "metadata": {},
   "source": [
    "# Aufgabe 3 (Abfragen mit publications.db)\n",
    "\n",
    "Es ist das umseitige Schema gegeben. Die zugehörige SQLite-Datenbank ist in `publications.db`. Geben Sie SQL-Queries für alle folgenden Aufgaben an. Testen Sie die Queries mit dieser Datenbank."
   ]
  },
  {
   "cell_type": "code",
   "execution_count": 3,
   "metadata": {},
   "outputs": [],
   "source": [
    "%sql sqlite:///publications.db"
   ]
  },
  {
   "cell_type": "markdown",
   "metadata": {},
   "source": [
    "1. Finden Sie alle Autoren, die in San Francisco wohnen."
   ]
  },
  {
   "cell_type": "code",
   "execution_count": 4,
   "metadata": {
    "vscode": {
     "languageId": "sql"
    }
   },
   "outputs": [
    {
     "name": "stdout",
     "output_type": "stream",
     "text": [
      " * sqlite:///publications.db\n",
      "   sqlite:///university.db\n",
      "Done.\n"
     ]
    },
    {
     "data": {
      "text/html": [
       "<table>\n",
       "    <thead>\n",
       "        <tr>\n",
       "            <th>au_id</th>\n",
       "            <th>au_lname</th>\n",
       "            <th>au_fname</th>\n",
       "            <th>phone</th>\n",
       "            <th>address</th>\n",
       "            <th>city</th>\n",
       "            <th>state</th>\n",
       "            <th>country</th>\n",
       "            <th>postalcode</th>\n",
       "        </tr>\n",
       "    </thead>\n",
       "    <tbody>\n",
       "        <tr>\n",
       "            <td>486-29-1786</td>\n",
       "            <td>Locksley</td>\n",
       "            <td>Chastity</td>\n",
       "            <td>415 585-4620</td>\n",
       "            <td>18 Broadway Av.</td>\n",
       "            <td>San Francisco</td>\n",
       "            <td>CA</td>\n",
       "            <td>USA</td>\n",
       "            <td>94130     </td>\n",
       "        </tr>\n",
       "    </tbody>\n",
       "</table>"
      ],
      "text/plain": [
       "[('486-29-1786', 'Locksley', 'Chastity', '415 585-4620', '18 Broadway Av.', 'San Francisco', 'CA', 'USA', '94130     ')]"
      ]
     },
     "execution_count": 4,
     "metadata": {},
     "output_type": "execute_result"
    }
   ],
   "source": [
    "%%sql\n",
    "\n",
    "select * from authors where city = 'San Francisco';"
   ]
  },
  {
   "cell_type": "markdown",
   "metadata": {},
   "source": [
    "2. Wieviele Titel beginnen mit 'S'?"
   ]
  },
  {
   "cell_type": "code",
   "execution_count": 5,
   "metadata": {
    "vscode": {
     "languageId": "sql"
    }
   },
   "outputs": [
    {
     "name": "stdout",
     "output_type": "stream",
     "text": [
      " * sqlite:///publications.db\n",
      "   sqlite:///university.db\n",
      "Done.\n"
     ]
    },
    {
     "data": {
      "text/html": [
       "<table>\n",
       "    <thead>\n",
       "        <tr>\n",
       "            <th>titles_starting_with_s</th>\n",
       "        </tr>\n",
       "    </thead>\n",
       "    <tbody>\n",
       "        <tr>\n",
       "            <td>4</td>\n",
       "        </tr>\n",
       "    </tbody>\n",
       "</table>"
      ],
      "text/plain": [
       "[(4,)]"
      ]
     },
     "execution_count": 5,
     "metadata": {},
     "output_type": "execute_result"
    }
   ],
   "source": [
    "%%sql\n",
    "\n",
    "select count(*) as titles_starting_with_s from titles where title like 'S%';"
   ]
  },
  {
   "cell_type": "markdown",
   "metadata": {},
   "source": [
    "3. Bestimmen Sie den durchschnittlichen Preis eines Titels."
   ]
  },
  {
   "cell_type": "code",
   "execution_count": 6,
   "metadata": {
    "vscode": {
     "languageId": "sql"
    }
   },
   "outputs": [
    {
     "name": "stdout",
     "output_type": "stream",
     "text": [
      " * sqlite:///publications.db\n",
      "   sqlite:///university.db\n",
      "Done.\n"
     ]
    },
    {
     "data": {
      "text/html": [
       "<table>\n",
       "    <thead>\n",
       "        <tr>\n",
       "            <th>average_price</th>\n",
       "        </tr>\n",
       "    </thead>\n",
       "    <tbody>\n",
       "        <tr>\n",
       "            <td>14.76625</td>\n",
       "        </tr>\n",
       "    </tbody>\n",
       "</table>"
      ],
      "text/plain": [
       "[(14.76625,)]"
      ]
     },
     "execution_count": 6,
     "metadata": {},
     "output_type": "execute_result"
    }
   ],
   "source": [
    "%%sql\n",
    "\n",
    "select avg(price) as average_price from titles;"
   ]
  },
  {
   "cell_type": "markdown",
   "metadata": {},
   "source": [
    "4. Geben Sie das Datum aller Verkäufe des Ladens 'Bookbeat' an."
   ]
  },
  {
   "cell_type": "code",
   "execution_count": 7,
   "metadata": {
    "vscode": {
     "languageId": "sql"
    }
   },
   "outputs": [
    {
     "name": "stdout",
     "output_type": "stream",
     "text": [
      " * sqlite:///publications.db\n",
      "   sqlite:///university.db\n",
      "Done.\n"
     ]
    },
    {
     "data": {
      "text/html": [
       "<table>\n",
       "    <thead>\n",
       "        <tr>\n",
       "            <th>date</th>\n",
       "        </tr>\n",
       "    </thead>\n",
       "    <tbody>\n",
       "        <tr>\n",
       "            <td>1986-07-13 00:00:00</td>\n",
       "        </tr>\n",
       "        <tr>\n",
       "            <td>1989-05-23 00:00:00</td>\n",
       "        </tr>\n",
       "        <tr>\n",
       "            <td>1988-01-13 00:00:00</td>\n",
       "        </tr>\n",
       "        <tr>\n",
       "            <td>1991-03-20 00:00:00</td>\n",
       "        </tr>\n",
       "        <tr>\n",
       "            <td>1991-03-20 00:00:00</td>\n",
       "        </tr>\n",
       "        <tr>\n",
       "            <td>1991-03-20 00:00:00</td>\n",
       "        </tr>\n",
       "    </tbody>\n",
       "</table>"
      ],
      "text/plain": [
       "[('1986-07-13 00:00:00',),\n",
       " ('1989-05-23 00:00:00',),\n",
       " ('1988-01-13 00:00:00',),\n",
       " ('1991-03-20 00:00:00',),\n",
       " ('1991-03-20 00:00:00',),\n",
       " ('1991-03-20 00:00:00',)]"
      ]
     },
     "execution_count": 7,
     "metadata": {},
     "output_type": "execute_result"
    }
   ],
   "source": [
    "%%sql\n",
    "\n",
    "select sales.date from sales\n",
    "  join stores on sales.stor_id = stores.stor_id\n",
    "where stores.stor_name = 'Bookbeat';"
   ]
  },
  {
   "cell_type": "markdown",
   "metadata": {},
   "source": [
    "5. Geben Sie alle Titel aus, die im Laden 'Bookbeat' verkauft wurden."
   ]
  },
  {
   "cell_type": "code",
   "execution_count": 8,
   "metadata": {
    "vscode": {
     "languageId": "sql"
    }
   },
   "outputs": [
    {
     "name": "stdout",
     "output_type": "stream",
     "text": [
      " * sqlite:///publications.db\n",
      "   sqlite:///university.db\n",
      "Done.\n"
     ]
    },
    {
     "data": {
      "text/html": [
       "<table>\n",
       "    <thead>\n",
       "        <tr>\n",
       "            <th>title</th>\n",
       "        </tr>\n",
       "    </thead>\n",
       "    <tbody>\n",
       "        <tr>\n",
       "            <td>Prolonged Data Deprivation: Four Case Studies</td>\n",
       "        </tr>\n",
       "        <tr>\n",
       "            <td>Onions, Leeks, and Garlic: Cooking Secrets of the Mediterranean</td>\n",
       "        </tr>\n",
       "        <tr>\n",
       "            <td>Life Without Fear</td>\n",
       "        </tr>\n",
       "        <tr>\n",
       "            <td>The Gourmet Microwave</td>\n",
       "        </tr>\n",
       "        <tr>\n",
       "            <td>Straight Talk About Computers</td>\n",
       "        </tr>\n",
       "        <tr>\n",
       "            <td>You Can Combat Computer Stress!</td>\n",
       "        </tr>\n",
       "        <tr>\n",
       "            <td>The Busy Executive&#x27;s Database Guide</td>\n",
       "        </tr>\n",
       "        <tr>\n",
       "            <td>But Is It User Friendly?</td>\n",
       "        </tr>\n",
       "        <tr>\n",
       "            <td>Emotional Security: A New Algorithm</td>\n",
       "        </tr>\n",
       "        <tr>\n",
       "            <td>Fifty Years in Buckingham Palace Kitchens</td>\n",
       "        </tr>\n",
       "        <tr>\n",
       "            <td>Cooking with Computers: Surreptitious Balance Sheets</td>\n",
       "        </tr>\n",
       "    </tbody>\n",
       "</table>"
      ],
      "text/plain": [
       "[('Prolonged Data Deprivation: Four Case Studies',),\n",
       " ('Onions, Leeks, and Garlic: Cooking Secrets of the Mediterranean',),\n",
       " ('Life Without Fear',),\n",
       " ('The Gourmet Microwave',),\n",
       " ('Straight Talk About Computers',),\n",
       " ('You Can Combat Computer Stress!',),\n",
       " (\"The Busy Executive's Database Guide\",),\n",
       " ('But Is It User Friendly?',),\n",
       " ('Emotional Security: A New Algorithm',),\n",
       " ('Fifty Years in Buckingham Palace Kitchens',),\n",
       " ('Cooking with Computers: Surreptitious Balance Sheets',)]"
      ]
     },
     "execution_count": 8,
     "metadata": {},
     "output_type": "execute_result"
    }
   ],
   "source": [
    "%%sql\n",
    "\n",
    "select distinct titles.title from titles\n",
    "  join salesdetail on titles.title_id = salesdetail.title_id\n",
    "  join stores on salesdetail.stor_id = stores.stor_id\n",
    "where stores.stor_name = 'Bookbeat';"
   ]
  },
  {
   "cell_type": "markdown",
   "metadata": {},
   "source": [
    "6. Finden Sie Titel und Preis des teuersten Buches."
   ]
  },
  {
   "cell_type": "code",
   "execution_count": 9,
   "metadata": {
    "vscode": {
     "languageId": "sql"
    }
   },
   "outputs": [
    {
     "name": "stdout",
     "output_type": "stream",
     "text": [
      " * sqlite:///publications.db\n",
      "   sqlite:///university.db\n",
      "Done.\n"
     ]
    },
    {
     "data": {
      "text/html": [
       "<table>\n",
       "    <thead>\n",
       "        <tr>\n",
       "            <th>cheapest</th>\n",
       "            <th>most_expensive</th>\n",
       "        </tr>\n",
       "    </thead>\n",
       "    <tbody>\n",
       "        <tr>\n",
       "            <td>2.99</td>\n",
       "            <td>22.95</td>\n",
       "        </tr>\n",
       "    </tbody>\n",
       "</table>"
      ],
      "text/plain": [
       "[(2.99, 22.95)]"
      ]
     },
     "execution_count": 9,
     "metadata": {},
     "output_type": "execute_result"
    }
   ],
   "source": [
    "%%sql\n",
    "\n",
    "select min(price) as cheapest, max(price) as most_expensive from titles;"
   ]
  },
  {
   "cell_type": "markdown",
   "metadata": {},
   "source": [
    "7. Finden Sie sämtliche Bücher, die teurer als das billigste Psychologie-Buch sind."
   ]
  },
  {
   "cell_type": "code",
   "execution_count": 10,
   "metadata": {
    "vscode": {
     "languageId": "sql"
    }
   },
   "outputs": [
    {
     "name": "stdout",
     "output_type": "stream",
     "text": [
      " * sqlite:///publications.db\n",
      "   sqlite:///university.db\n",
      "Done.\n"
     ]
    },
    {
     "data": {
      "text/html": [
       "<table>\n",
       "    <thead>\n",
       "        <tr>\n",
       "            <th>title</th>\n",
       "        </tr>\n",
       "    </thead>\n",
       "    <tbody>\n",
       "        <tr>\n",
       "            <td>Secrets of Silicon Valley</td>\n",
       "        </tr>\n",
       "        <tr>\n",
       "            <td>The Busy Executive&#x27;s Database Guide</td>\n",
       "        </tr>\n",
       "        <tr>\n",
       "            <td>Emotional Security: A New Algorithm</td>\n",
       "        </tr>\n",
       "        <tr>\n",
       "            <td>Prolonged Data Deprivation: Four Case Studies</td>\n",
       "        </tr>\n",
       "        <tr>\n",
       "            <td>Cooking with Computers: Surreptitious Balance Sheets</td>\n",
       "        </tr>\n",
       "        <tr>\n",
       "            <td>Silicon Valley Gastronomic Treats</td>\n",
       "        </tr>\n",
       "        <tr>\n",
       "            <td>Sushi, Anyone?</td>\n",
       "        </tr>\n",
       "        <tr>\n",
       "            <td>Fifty Years in Buckingham Palace Kitchens</td>\n",
       "        </tr>\n",
       "        <tr>\n",
       "            <td>But Is It User Friendly?</td>\n",
       "        </tr>\n",
       "        <tr>\n",
       "            <td>Is Anger the Enemy?</td>\n",
       "        </tr>\n",
       "        <tr>\n",
       "            <td>Onions, Leeks, and Garlic: Cooking Secrets of the Mediterranean</td>\n",
       "        </tr>\n",
       "        <tr>\n",
       "            <td>Straight Talk About Computers</td>\n",
       "        </tr>\n",
       "        <tr>\n",
       "            <td>Computer Phobic and Non-Phobic Individuals: Behavior Variations</td>\n",
       "        </tr>\n",
       "    </tbody>\n",
       "</table>"
      ],
      "text/plain": [
       "[('Secrets of Silicon Valley',),\n",
       " (\"The Busy Executive's Database Guide\",),\n",
       " ('Emotional Security: A New Algorithm',),\n",
       " ('Prolonged Data Deprivation: Four Case Studies',),\n",
       " ('Cooking with Computers: Surreptitious Balance Sheets',),\n",
       " ('Silicon Valley Gastronomic Treats',),\n",
       " ('Sushi, Anyone?',),\n",
       " ('Fifty Years in Buckingham Palace Kitchens',),\n",
       " ('But Is It User Friendly?',),\n",
       " ('Is Anger the Enemy?',),\n",
       " ('Onions, Leeks, and Garlic: Cooking Secrets of the Mediterranean',),\n",
       " ('Straight Talk About Computers',),\n",
       " ('Computer Phobic and Non-Phobic Individuals: Behavior Variations',)]"
      ]
     },
     "execution_count": 10,
     "metadata": {},
     "output_type": "execute_result"
    }
   ],
   "source": [
    "%%sql\n",
    "\n",
    "select title from titles\n",
    "where price > (\n",
    "  select min(price) as cheapest from titles\n",
    "  where type like 'psychology%'\n",
    ");"
   ]
  },
  {
   "cell_type": "markdown",
   "metadata": {},
   "source": [
    "8. "
   ]
  },
  {
   "cell_type": "markdown",
   "metadata": {},
   "source": [
    "9. "
   ]
  },
  {
   "cell_type": "markdown",
   "metadata": {},
   "source": [
    "10. "
   ]
  },
  {
   "cell_type": "markdown",
   "metadata": {},
   "source": [
    "11. "
   ]
  },
  {
   "cell_type": "markdown",
   "metadata": {},
   "source": [
    "12. "
   ]
  },
  {
   "cell_type": "markdown",
   "metadata": {},
   "source": [
    "13. "
   ]
  },
  {
   "cell_type": "markdown",
   "metadata": {},
   "source": [
    "14. "
   ]
  }
 ],
 "metadata": {
  "kernelspec": {
   "display_name": ".venv",
   "language": "python",
   "name": "python3"
  },
  "language_info": {
   "codemirror_mode": {
    "name": "ipython",
    "version": 3
   },
   "file_extension": ".py",
   "mimetype": "text/x-python",
   "name": "python",
   "nbconvert_exporter": "python",
   "pygments_lexer": "ipython3",
   "version": "3.12.2"
  }
 },
 "nbformat": 4,
 "nbformat_minor": 2
}
