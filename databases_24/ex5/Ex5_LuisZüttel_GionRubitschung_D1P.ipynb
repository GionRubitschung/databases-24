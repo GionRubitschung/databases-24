{
 "cells": [
  {
   "cell_type": "markdown",
   "metadata": {},
   "source": [
    "# Aufgabe 1 (Preliminaries)\n",
    "\n",
    "This task requires a working installation of SQLite. The way to install it depends on your platform, but it is usually very easy. For Ubuntu 20.04 it’s just `sudo apt install sqlite3`"
   ]
  },
  {
   "cell_type": "code",
   "execution_count": 1,
   "metadata": {},
   "outputs": [],
   "source": [
    "%load_ext sql"
   ]
  },
  {
   "cell_type": "markdown",
   "metadata": {},
   "source": [
    "# Aufgabe 2 (University Schema)\n",
    "\n",
    "Laden Sie die gegebene SQLite-Datenbank `university.db`"
   ]
  },
  {
   "cell_type": "code",
   "execution_count": 2,
   "metadata": {},
   "outputs": [],
   "source": [
    "%sql sqlite:///university.db"
   ]
  },
  {
   "cell_type": "markdown",
   "metadata": {},
   "source": [
    "1. Schauen Sie sich das Schema an:\n",
    "\n",
    "        `.tables`\n",
    "\n",
    "        `.schema --indent`"
   ]
  },
  {
   "cell_type": "markdown",
   "metadata": {},
   "source": [
    "2. Schauen Sie sich die Instanz an (die Daten in jeder Tabelle):\n",
    "\n",
    "    `select * from <table-name>;`"
   ]
  },
  {
   "cell_type": "markdown",
   "metadata": {},
   "source": [
    "3. Vergleichen Sie mit dem in der Vorlesung dazu gegebenen Schema. Verstehen Sie die Bedeutung der Datensätze in allen diesen Tabellen, die Primary Keys und die Foreign-Key-Beziehungen zwischen den Tabellen. Beantworten Sie insbesondere folgende Fragen:"
   ]
  },
  {
   "cell_type": "markdown",
   "metadata": {},
   "source": [
    "&emsp;&emsp;(a) Wie viele `instructors` kann ein `student` als `advisor` haben? Warum?\n",
    "\n",
    "&emsp;&emsp;Entweder kein oder ein Instruktor. Die `advisor` Tabelle ist eine Zwischentabelle die als eine N zu M relation fungiert, was heisst jeder Student hat entweder genau einen oder keinen Instruktor."
   ]
  },
  {
   "cell_type": "markdown",
   "metadata": {},
   "source": [
    "&emsp;&emsp;(b) Wieviele `students` kann ein `instructor` als `advisor` haben? Warum?\n",
    "\n",
    "```sql\n",
    "CREATE TABLE advisor(\n",
    "  s_ID  varchar(5),\n",
    "  i_ID  varchar(5),\n",
    "  primary key(s_ID),\n",
    "  foreign key(i_ID) references instructor(ID)   on delete set null,\n",
    "  foreign key(s_ID) references student(ID)      on delete cascade\n",
    ");\n",
    "```\n",
    "\n",
    "&emsp;&emsp;Der `instructor` kann der `advisor` für beliebig viele `students` sein. Weil der Primary Key sich nur auf die `students.ID` bezieht und unique sein muss.<br>\n",
    "&emsp;&emsp;Diesselbe `instructor.ID` kann mehrfach aufkommen in Datensätzen als `advisor.i_ID`\n"
   ]
  },
  {
   "cell_type": "markdown",
   "metadata": {},
   "source": [
    "&emsp;&emsp;(c) Warum gibt es keine Foreign-Key-Beziehung von `section` auf `time_slot`?\n",
    "\n",
    "&emsp;&emsp;Das Attribut `time_slot_id` ist in beiden Tabellen `section` und `time_slot` enthalten, jedoch ist es kein Primary Key in der `time_slot` Tabelle, demnach kann es auch keine Foreign-Key-Beziehung geben."
   ]
  },
  {
   "cell_type": "markdown",
   "metadata": {},
   "source": [
    "# Aufgabe 3 (Abfragen mit publications.db)\n",
    "\n",
    "Es ist das umseitige Schema gegeben. Die zugehörige SQLite-Datenbank ist in `publications.db`. Geben Sie SQL-Queries für alle folgenden Aufgaben an. Testen Sie die Queries mit dieser Datenbank."
   ]
  },
  {
   "cell_type": "code",
   "execution_count": 3,
   "metadata": {},
   "outputs": [],
   "source": [
    "%sql sqlite:///publications.db"
   ]
  },
  {
   "cell_type": "markdown",
   "metadata": {},
   "source": [
    "1. "
   ]
  },
  {
   "cell_type": "markdown",
   "metadata": {},
   "source": [
    "2. "
   ]
  },
  {
   "cell_type": "markdown",
   "metadata": {},
   "source": [
    "3. "
   ]
  },
  {
   "cell_type": "markdown",
   "metadata": {},
   "source": [
    "4. "
   ]
  },
  {
   "cell_type": "markdown",
   "metadata": {},
   "source": [
    "5. "
   ]
  },
  {
   "cell_type": "markdown",
   "metadata": {},
   "source": [
    "6. "
   ]
  },
  {
   "cell_type": "markdown",
   "metadata": {},
   "source": [
    "7. "
   ]
  },
  {
   "cell_type": "markdown",
   "metadata": {},
   "source": [
    "8. "
   ]
  },
  {
   "cell_type": "markdown",
   "metadata": {},
   "source": [
    "9. "
   ]
  },
  {
   "cell_type": "markdown",
   "metadata": {},
   "source": [
    "10. "
   ]
  },
  {
   "cell_type": "markdown",
   "metadata": {},
   "source": [
    "11. "
   ]
  },
  {
   "cell_type": "markdown",
   "metadata": {},
   "source": [
    "12. "
   ]
  },
  {
   "cell_type": "markdown",
   "metadata": {},
   "source": [
    "13. "
   ]
  },
  {
   "cell_type": "markdown",
   "metadata": {},
   "source": [
    "14. "
   ]
  }
 ],
 "metadata": {
  "kernelspec": {
   "display_name": ".venv",
   "language": "python",
   "name": "python3"
  },
  "language_info": {
   "codemirror_mode": {
    "name": "ipython",
    "version": 3
   },
   "file_extension": ".py",
   "mimetype": "text/x-python",
   "name": "python",
   "nbconvert_exporter": "python",
   "pygments_lexer": "ipython3",
   "version": "3.12.2"
  }
 },
 "nbformat": 4,
 "nbformat_minor": 2
}
