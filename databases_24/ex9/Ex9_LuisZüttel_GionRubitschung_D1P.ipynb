{
 "cells": [
  {
   "cell_type": "markdown",
   "metadata": {},
   "source": [
    "# Aufgabe 1 (ER-Diagramm verstehen)\n",
    "\n",
    "Beantworten Sie folgende Fragen zum umseitigen ER-Diagramm."
   ]
  },
  {
   "cell_type": "markdown",
   "metadata": {},
   "source": [
    "1.  Gibt es Server, die nicht administriert werden?\n",
    "    \n",
    "    Nein. Jeder Server bruacht durch die Relation \"administriert\" einen Administrator."
   ]
  },
  {
   "cell_type": "markdown",
   "metadata": {},
   "source": [
    "2.  Verwaltet ein Administrator mehrere Server?\n",
    "\n",
    "    Ja. Die Relation \"administriert\" ist eine 1-m relation, das heisst, ein Administrator administiert mindestens einen oder mehrere Server."
   ]
  },
  {
   "cell_type": "markdown",
   "metadata": {},
   "source": [
    "3.  Wieviele Administratoren administrieren (indirekt) ein Dokument?\n",
    "\n",
    "    Genau einer. Durch die Relation \"administiert\" administriert ein Administrator ein oder mehrere Server und ein Server, durch die Relation \"publiziert\" handhabt eines oder mehrere Dokumente. Beides sind also 1-m Relationen. Umgekehrt kann ein einzelnes Dokument also nur von einem Server gehandhabt werden und ein einzelner Server nur durch einen Administrator administriert werden."
   ]
  },
  {
   "cell_type": "markdown",
   "metadata": {},
   "source": [
    "4. Können Dokumente von einem Redakteur designt werden?\n",
    "   \n",
    "   Nein, ein Redakteur kann ein Dokument nur editieren."
   ]
  },
  {
   "cell_type": "markdown",
   "metadata": {},
   "source": [
    "5. Kann ein Benutzer ein Dokument von einem Servel holen, auf den er nicht zugreift?\n",
    "\n",
    "    Ja, durch die Relation \"holt\"."
   ]
  },
  {
   "cell_type": "markdown",
   "metadata": {},
   "source": [
    "Erstellen Sie aus dem ER-Diagramm ein Schema, nehmen Sie geeignete $primary \\space keys$ an, z.B. `hostname` für Server.\n",
    "\n",
    "$Angestellter(\\underline{AngestellterID}, ...)$</br>\n",
    "$Redakteur(\\underline{AngestellterID}, ...)$</br>\n",
    "&emsp;$AngestellterID \\rightarrow Angestellter$</br>\n",
    "$Designer(\\underline{AngestellterID}, ...)$</br>\n",
    "&emsp;$AngestellterID \\rightarrow Angestellter$</br>\n",
    "$Administrator(\\underline{AngestellterID}, ...)$</br>\n",
    "&emsp;$AngestellterID \\rightarrow Angestellter$</br>\n",
    "$Server(\\underline{Hostname}, ..., AdministatorID)$</br>\n",
    "&emsp;$AdministratorID \\rightarrow Administrator$</br>\n",
    "$Dokument(\\underline{DokumentID}, ..., RedakteurID, DesignerID, Hostname)$</br>\n",
    "&emsp;$RedakteurID \\rightarrow Redakteur$</br>\n",
    "&emsp;$DesignerID \\rightarrow Designer$</br>\n",
    "&emsp;$Hostname \\rightarrow Server$</br>\n",
    "$Benutzer(\\underline{Benutzername}, ...)$</br>\n",
    "$greift\\_zu(\\underline{Benutzername}, \\underline{Hostname})$</br>\n",
    "&emsp;$Benutzername \\rightarrow Benutzer$</br>\n",
    "&emsp;$Hostname \\rightarrow Server$</br>\n",
    "$holt(\\underline{Benutzername}, \\underline{DokumentID})$</br>\n",
    "&emsp;$Benutzername \\rightarrow Benutzer$</br>\n",
    "&emsp;$DokumentID \\rightarrow Dokument$</br>"
   ]
  },
  {
   "cell_type": "markdown",
   "metadata": {},
   "source": [
    "![ERD](ERD_ex9_1.png)"
   ]
  },
  {
   "cell_type": "markdown",
   "metadata": {},
   "source": [
    "# Aufgabe 2 (ER-Diagram für Kinokette)\n",
    "\n",
    "Eine DB-Anwendung soll Kinoprogramme und -besuche verwalten. Es sollen Kinos aus der ganzen Schweiz erfasst werden. Aus der DB soll ersichtlich sein, welcher Film wann in welchem Kino in welcher Version (Sprache / Untertitel) gezeigt wurde und welche Personen welche Vorstellungen wann und wo (inkl. Sitzplatznummer) gesehen haben. </br>\n",
    "Von den Kinos müssen auch die Lokalität und die Telefonnummer fur den Vorverkauf erfasst werden. Für kjeden Film soll zumindest der Titel gespeichert sein und wer Regie geführt hat. Von den Personen soll gegebenenfalls die Cinécard-Nummer erfasst werden."
   ]
  },
  {
   "cell_type": "markdown",
   "metadata": {},
   "source": [
    "1. Erstellen Sie ein ER-Diagramm für diese Datenbank\n",
    "\n",
    "    ![erd](./kino_erd.drawio.svg)"
   ]
  },
  {
   "cell_type": "markdown",
   "metadata": {},
   "source": [
    "2. Erstellen Sie aus dem ER-Diagramm ein Schema.\n",
    "   \n",
    "   $cinema(\\underline{id}, name, location, phone\\_number)$\n",
    "\n",
    "   $showing(\\underline{id}, cinema\\_id, movie\\_id, time, room, language, subtitle)$\n",
    "\n",
    "   &emsp;&emsp;$cinema\\_id \\rightarrow cinema$\n",
    "\n",
    "   &emsp;&emsp;$movie\\_id \\rightarrow movie$\n",
    "\n",
    "   $movie(\\underline{id}, title, director)$\n",
    "\n",
    "   $person(\\underline{cinecard\\_nr}, name)$\n",
    "\n",
    "   $booking(\\underline{cinecard\\_nr}, \\underline{showing\\_id}, seat)$\n",
    "\n",
    "   &emsp;&emsp;$cinecard\\_nr \\rightarrow person$\n",
    "\n",
    "   &emsp;&emsp;$showing\\_id \\rightarrow showing$"
   ]
  },
  {
   "cell_type": "markdown",
   "metadata": {},
   "source": [
    "# Aufgabe 3 (ER-Diagramm für Kunden mit Holding und Filialien)\n",
    "\n",
    "Eine Handelsfirma möchte eine Applikation, mit der sie verwalten kann, welches Produkt sie welchem Kunden an welchem Tag zu welchem Peris geliefert hat. Der Preis kann dabei für jede Lieferung unterschiedlich sein, auch wenn es das gleiche Produkt für denselben Kunden ist.</br>\n",
    "Um entsprechende Preismodelle anbieten zu können, soll die Organisation der Kunden nachgebildet werden. Das heisst, Kunde kann sein: eine Holding, eine Firma oder eine Filiale, wobei Filialen zu einer Firma und Firmen zu einer Holding gehören können. Es kann natürlich auch Firmen ohne Filialien und Holding geben. Insbesondere sollen die Abfragen in Teilaufgabe 3 möglich sein."
   ]
  }
 ],
 "metadata": {
  "language_info": {
   "name": "python"
  }
 },
 "nbformat": 4,
 "nbformat_minor": 2
}
