{
 "cells": [
  {
   "cell_type": "markdown",
   "metadata": {},
   "source": [
    "# Exercise 1 (Operationen auf Mengen)\n",
    "\n",
    "Gegeben sind die Mengen $Starters = \\{salad, soup\\}$, $Main = \\{pizza, steak\\}$, and $Dessert = \\{fruit, icecream\\}$, sowie die Relationen $Father= \\{(adam, bert), (bert, carl)\\}$ und $Car = \\{(adam, audi), (bert, bmw), (carl, chevy)\\}$."
   ]
  },
  {
   "cell_type": "markdown",
   "metadata": {},
   "source": [
    "### 1. $Starters \\times Main \\times Dessert$\n",
    "$Starters \\times Main = \\{(salad, pizza), (salad, steak), (soup, pizza), (soup, steak)\\}$\n",
    "\n",
    "\n",
    "$Starters \\times Main \\times Dessert = \\{((salad, pizza), fruit), (salad, steak), fruit), (soup, pizza), fruit), (soup, steak), fruit), ((salad, pizza), icecream), (salad, steak), icecream), (soup, pizza), icecream), (soup, steak), icecream)\\}$\n"
   ]
  },
  {
   "cell_type": "markdown",
   "metadata": {},
   "source": [
    "### 2. $Father.Father$\n",
    "\n",
    "$Father.Father = \\{(adam, carl)\\}$"
   ]
  },
  {
   "cell_type": "markdown",
   "metadata": {},
   "source": [
    "### 3. $Father.Car$\n",
    "\n",
    "$Father.Car= \\{(adam, bmw), (bert, chevy)\\}$"
   ]
  },
  {
   "cell_type": "markdown",
   "metadata": {},
   "source": [
    "### 4. $Car.Father$\n",
    "\n",
    "$Car.Father = \\emptyset$ "
   ]
  },
  {
   "cell_type": "markdown",
   "metadata": {},
   "source": [
    "# Exercise 2 (Aussagen über Mengen)\n",
    "\n",
    "Welche der folgenden Aussagen sind wahr? Begründen Sie jeweils, warum. Wenn eine Aussage falsch ist, dann zeigen Sie das mit einem Gegenbeispiel. Die Mengen $A$, $B$, $C$ seien Teilmengen einer beliebigen endlichen Grundmenge $U$."
   ]
  },
  {
   "cell_type": "markdown",
   "metadata": {},
   "source": [
    "### 1. Wenn $A \\cup B = A \\cup C$ dann $B=C$\n",
    "\n",
    "- $a \\in A$ oder $a \\in B$\n",
    "- $a \\in A$ oder $a \\in C$\n",
    "\n",
    "Dann ist $B=C$, weil die Teilmenge $A$ mit jeweils $B$ und $C$ diesselbe Menge gibt."
   ]
  },
  {
   "cell_type": "markdown",
   "metadata": {},
   "source": [
    "### 2. Es gilt $A \\subseteq B$ genau dann wenn $\\overline{B} \\subseteq \\overline{A}$\n"
   ]
  },
  {
   "cell_type": "markdown",
   "metadata": {},
   "source": [
    "$A = \\{1,2\\}$ $\\overline{A} = \\{3,\\dots,\\infty\\}$\n",
    "\n",
    "$B = \\{1,2,3\\}$ $\\overline{B} = \\{4,\\dots,\\infty\\}$\n",
    "\n",
    "$A \\subseteq B =$ wahr\n",
    "\n",
    "$\\overline{B} \\subseteq \\overline{A} =$ wahr, weil in $\\overline{B}$ alles nach und mit 4, auch in $\\overline{A}$ vorkommt\n",
    "\n",
    "$\\Longrightarrow A \\subseteq B \\Longleftrightarrow \\overline{B} \\subseteq \\overline{A}$"
   ]
  },
  {
   "cell_type": "markdown",
   "metadata": {},
   "source": [
    "### 3. $A \\times B = B \\times A$\n",
    "\n",
    "Nein, denn wenn wir beispielsweise die Mengen $A = \\{(1), (5), (20)\\}$ und $B = \\{(2), (3), (4)\\}$ nehmen und die kartesischen Produkte beider Gleichungen rechnen, bekommen wir:\n",
    "\n",
    "- $A \\times B = \\{(1, 2), (1, 3), (1, 4), (5, 2), (5, 3), (5, 4), (20, 2), (20, 3), (20, 4)\\}$\n",
    "- $B \\times A = \\{(2, 1), (2, 5), (2, 20), (3, 1), (3, 5), (3, 20), (4, 1), (4, 5), (4, 20)\\}$\n",
    "\n",
    "Also ist die Gleichung falsch, denn $A \\times B \\neq B \\times A$"
   ]
  },
  {
   "cell_type": "markdown",
   "metadata": {},
   "source": [
    "### 4. $|A \\times B| = |A| \\cdot |B|$ \n",
    "\n",
    "Diese Aussage stimmt, denn wir können für $A$ und $B$ die Kardinalität 3 setzen. Also beide Mengen besitzen jeweils 3 Elemente.\n",
    "\n",
    "Das bedeutet das die Kardinalität des kartesischem Produkt der beiden Mengen $3 \\cdot 3 = 9$ wäre.\n",
    "Genau wie wenn man die Kardinalität beider Mengen einzeln miteinander multipliziert."
   ]
  },
  {
   "cell_type": "markdown",
   "metadata": {},
   "source": [
    "# Exercise 3 (Mengen als Listen)\n",
    "\n",
    "Mengen werden häufig mit Hilfe von Listen implementiert. Geben Sie in einer Programmiersprache ihrer Wahl oder in Pseudocode eine Funktion `boolean equals(list l1,list l2)` an, die genau dann `true` liefert, wenn die Mengen der Elemente der beiden Listen gleich sind. Gegeben sind die Funktionen `int head(list l)` und `list tail(list l)`, die für nichtleere Listen jeweils das erste Element und die Restliste liefern, sowie die Funktion `boolean empty(list l)`. Geben Sie möglichst einfachen, kurzen und offensichtlich korrekten Code an, die Laufzeit spielt keine Rolle. Definieren Sie sich geeignete Hilfsfunktionen."
   ]
  },
  {
   "cell_type": "code",
   "execution_count": 8,
   "metadata": {},
   "outputs": [
    {
     "name": "stdout",
     "output_type": "stream",
     "text": [
      "True\n",
      "False\n"
     ]
    }
   ],
   "source": [
    "def head(l: list) -> int:\n",
    "    return l[0]\n",
    "\n",
    "def tail(l: list) -> list:\n",
    "    return l[1:]\n",
    "\n",
    "def empty(l: list) -> bool:\n",
    "    return len(l) == 0\n",
    "\n",
    "def contains(l: list, e: int) -> bool:\n",
    "    if empty(l):\n",
    "        return False\n",
    "    elif head(l) == e:\n",
    "        return True\n",
    "    else:\n",
    "        return contains(tail(l), e)\n",
    "    \n",
    "def remove(l: list, e: int) -> list:\n",
    "    if empty(l):\n",
    "        return []\n",
    "    elif head(l) == e:\n",
    "        return tail(l)\n",
    "    else:\n",
    "        return [head(l)] + remove(tail(l), e)\n",
    "\n",
    "def equals(l1: list, l2: list) -> bool:\n",
    "    if empty(l1) and empty(l2):\n",
    "        return True\n",
    "    elif empty(l1) or empty(l2):\n",
    "        return False\n",
    "    elif contains(l2, head(l1)):\n",
    "        return equals(tail(l1), remove(l2, head(l1)))\n",
    "    else:\n",
    "        return False\n",
    "\n",
    "l1 = [2, 1, 3]\n",
    "l2 = [1, 2, 3]\n",
    "print(equals(l1, l2))\n",
    "\n",
    "l1 = [1, 2, 3]\n",
    "l2 = [2, 1, 4]\n",
    "print(equals(l1, l2))"
   ]
  },
  {
   "cell_type": "markdown",
   "metadata": {},
   "source": [
    "# Exercise 4 (Mengen von Natürlichen Zahlen als Boolean Arrays)\n",
    "\n",
    "Eine endliche Menge $S$ von natürlichen Zahlen kann man als Array `boolean[] s` repräsentieren, wie folgt:\n",
    "\n",
    "`s[n] = true` falls $n \\in S$\n",
    "\n",
    "`s[n] = false` falls $n \\notin S$\n",
    "\n",
    "Die Menge $S=\\{1,3,4\\}$ zum Beispiel ist dann durch folgendes Array repräsentiert:\n",
    "```\n",
    "s[0] = false\n",
    "s[1] = true\n",
    "s[2] = false\n",
    "s[3] = true\n",
    "s[4] = true\n",
    "```\n",
    "Geben Sie möglichst einfache Algorithmen in Pseudocode an für folgende Funktionen:\n",
    "\n",
    "1. `boolean subset(boolean[] s, boolean[] t)`, die genau dann `true` liefert, wenn $S$ eine Teilmenge von $T$ ist"
   ]
  },
  {
   "cell_type": "code",
   "execution_count": 9,
   "metadata": {},
   "outputs": [],
   "source": [
    "def subset(s: list[bool], t: list[bool]) -> bool:\n",
    "    for n in range(len(s)):\n",
    "        if s[n] and (n >= len(t) or not t[n]):\n",
    "            return False\n",
    "    return True"
   ]
  },
  {
   "cell_type": "markdown",
   "metadata": {},
   "source": [
    "Testen wir diese Funktion mit den Mengen $S=\\{1,3,4\\}$ und $S=\\{1,3,4\\}$. Hierbei ist $S = T$ und somit $S \\in T$, die Funktion muss also `True` zurückgeben."
   ]
  },
  {
   "cell_type": "code",
   "execution_count": 10,
   "metadata": {},
   "outputs": [
    {
     "name": "stdout",
     "output_type": "stream",
     "text": [
      "True\n"
     ]
    }
   ],
   "source": [
    "s = [False, True, False, True, True]\n",
    "t = [False, True, False, True, True]\n",
    "\n",
    "subset(s, t)"
   ]
  },
  {
   "cell_type": "markdown",
   "metadata": {},
   "source": [
    "Was ist wenn $S \\neq T$? Setzen wir $T = \\{1, 2, 3, 4, 5\\}$. Hierbei ist immernoch $S \\in T$, die Funktion muss also wieder `True` zurückgeben."
   ]
  },
  {
   "cell_type": "code",
   "execution_count": 11,
   "metadata": {},
   "outputs": [
    {
     "data": {
      "text/plain": [
       "True"
      ]
     },
     "execution_count": 11,
     "metadata": {},
     "output_type": "execute_result"
    }
   ],
   "source": [
    "s = [False, True, False, True, True]\n",
    "t = [False, True, True, True, True, True]\n",
    "\n",
    "subset(s, t)"
   ]
  },
  {
   "cell_type": "markdown",
   "metadata": {},
   "source": [
    "Was ist wenn $S \\notin T$? Setzen wir $S=\\{1,3\\}$ und $T=\\{2,4\\}$, die Funktion muss also `False` zurückgeben."
   ]
  },
  {
   "cell_type": "code",
   "execution_count": 12,
   "metadata": {},
   "outputs": [
    {
     "data": {
      "text/plain": [
       "False"
      ]
     },
     "execution_count": 12,
     "metadata": {},
     "output_type": "execute_result"
    }
   ],
   "source": [
    "s = [False, True, False, True]\n",
    "t = [False, False, True, False, True]\n",
    "\n",
    "subset(s, t)"
   ]
  },
  {
   "cell_type": "markdown",
   "metadata": {},
   "source": [
    "# Exercise 5 (Relationen als Boolean Arrays)\n",
    "\n",
    "Eine endliche binäre Relation $R$ auf den natürlichen Zahlen sei als ein zweidimensionales Array `boolean[][] r` repräsentiert, so dass gilt:\n",
    "\n",
    "```python\n",
    "r[m][n] = True\n",
    "```  \n",
    "falls $(m, n) \\in R$\n",
    "\n",
    "```python\n",
    "r[m][n] = False\n",
    "```\n",
    "falls $(m, n) \\notin R$\n",
    "\n",
    "Geben Sie einen möglichst einfachen Algorithmus in Pseudocode an für die Funktion `boolean[][] compose(boolean[][] r, boolean[][] t)`, die die (Repräsentation der) Komposition der Relation $R$ und $T$ liefert. \n"
   ]
  },
  {
   "cell_type": "code",
   "execution_count": 6,
   "metadata": {},
   "outputs": [
    {
     "name": "stdout",
     "output_type": "stream",
     "text": [
      "[[True, False], [True, True], [False, False], [False, True]]\n"
     ]
    }
   ],
   "source": [
    "\n",
    "\n",
    "r = [[True, False], [False, True], [False, False], [True, True]]\n",
    "t = [[False, False], [False, True]]\n",
    "\n",
    "def compose(r: list[list[bool]], t: list[list[bool]]) -> list[list[bool]]:\n",
    "    result = []\n",
    "    for i in range(len(r)):\n",
    "        for j in range(len(t[0])):\n",
    "            if r[i][1] == t[j][0]:\n",
    "                result.append([r[i][0], t[j][1]])\n",
    "    return result\n",
    "\n",
    "print(compose(r, t))"
   ]
  },
  {
   "cell_type": "markdown",
   "metadata": {},
   "source": [
    "# Exercise 6 (Anzahl Relationen zwischen Mengen)\n",
    "\n",
    "Gegeben seien zwei Mengen $A$ und $B$ mit $|A| = m$ und $|B| = n$. Wieviele Relationen zwischen $A$ und $B$ gibt es? Betrachten Sie Beispiele. Begründen Sie Ihre Antwort.\n",
    "\n",
    "Die Anzahl Relationen zwischen 2 Mengen, kann man ausrechnen indem man die Kardinalität beider Mengen miteinander multipliziert. Sowie wir es bereits in der Aufgabe 2.4 gemacht haben.\n",
    "\n",
    "Was jedoch zu berücksichtigen ist wohl, dass die 2 Mengen entweder als $A \\times B$ oder $ B \\times A$ gerechnet werden können und nicht dasselbe Resultat zurückgeben, wie in Aufgabe 2.3.\n",
    "\n",
    "Das bedeutet, das die Anzahl möglicher Relationen zwischen den Beiden Mengen $mn + nm = \\underline{\\underline{2mn}}$ ist. "
   ]
  }
 ],
 "metadata": {
  "kernelspec": {
   "display_name": ".venv",
   "language": "python",
   "name": "python3"
  },
  "language_info": {
   "codemirror_mode": {
    "name": "ipython",
    "version": 3
   },
   "file_extension": ".py",
   "mimetype": "text/x-python",
   "name": "python",
   "nbconvert_exporter": "python",
   "pygments_lexer": "ipython3",
   "version": "3.12.2"
  }
 },
 "nbformat": 4,
 "nbformat_minor": 2
}
