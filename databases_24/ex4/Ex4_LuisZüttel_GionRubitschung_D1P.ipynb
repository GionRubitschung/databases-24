{
 "cells": [
  {
   "cell_type": "markdown",
   "metadata": {},
   "source": [
    "# Aufgabe 1\n",
    "\n",
    "Drücken Sie die gegebenen Abfragen in der relationalen Algebra aus.\n",
    "\n",
    "$employee(\\underline{person\\_name}, street, city)$\n",
    "\n",
    "$works(\\underline{person\\_name}, company\\_name, salary)$\n",
    "\n",
    "$company(\\underline{person\\_name}, city)$\n",
    "\n",
    "$manages(\\underline{person\\_name}, manager\\_name)$"
   ]
  },
  {
   "cell_type": "markdown",
   "metadata": {},
   "source": [
    "1. Finde die Namen und Wohnorte aller Angestellten, welche für FBC arbeiten.\n",
    "\n",
    "$employee\\_works \\leftarrow employee \\bowtie works$\n",
    "\n",
    "$fbc\\_workers \\leftarrow \\sigma_{works.company\\_name='FBC'}(employee\\_works)$\n",
    "\n",
    "$\\pi_{person\\_name,city}(fbc\\_workers)$"
   ]
  },
  {
   "cell_type": "markdown",
   "metadata": {},
   "source": [
    "2. Finde die Namen und Wohnorte mit Strasse aller Angestellten, welche für FBC arbeiten und die mehr als CHF 100'000.- verdienen\n",
    "\n",
    "    $\\pi_{person\\_name, street, city}(\\sigma_{salary > 100000}(fbc\\_workers))$"
   ]
  },
  {
   "cell_type": "markdown",
   "metadata": {},
   "source": [
    "3. Finde die Namen aller Angestellten, die in der Stadt arbeiten in der sie auch wohnen.\n",
    "\n",
    "$\\pi_{person\\_name}(employee\\_works \\bowtie company)$"
   ]
  },
  {
   "cell_type": "markdown",
   "metadata": {},
   "source": [
    "4. Finde die Namen aller Angestellten, die in derselben Stadt an derselben Strasse wohnen, wie ihr Manager.\n",
    "\n",
    "    $manager \\leftarrow \\rho_{manager\\_name, street, city}(employee)$\n",
    "\n",
    "    $employee \\bowtie manages \\bowtie manager$"
   ]
  },
  {
   "cell_type": "markdown",
   "metadata": {},
   "source": [
    "5. Finde die Firma mit den meisten Angestellten\n",
    "\n",
    "$company\\_employees \\leftarrow _{company\\_name} \\mathcal{G}_{count(person\\_name) \\space as \\space employees}(works)$\n",
    "\n",
    "$most\\_employees \\leftarrow \\mathcal{G}_{max(company\\_name) \\space as \\space max\\_employees} (company\\_employees)$\n",
    "\n",
    "$\\pi_{company\\_name}(\\sigma_{employees=max\\_employees})(company\\_employees \\times most\\_employees)$"
   ]
  },
  {
   "cell_type": "markdown",
   "metadata": {},
   "source": [
    "6. Finde die Firma, welche die kleinste Lohnsumme bezahlt.\n",
    "\n",
    "    $sum\\_salaries \\leftarrow _{company\\_name }\\mathcal{G}_{sum(salary)\\space as \\space sum\\_salaries}(works)$\n",
    "\n",
    "    $min\\_salary \\leftarrow \\mathcal{G}_{min(sum\\_salaries)\\space as \\space min\\_salary}(sum\\_salaries)$\n",
    "\n",
    "    $\\pi_{company\\_name, min\\_salary}(\\sigma_{sum\\_salaries=min\\_salary}(sum\\_salaries \\times min\\_salary))$"
   ]
  },
  {
   "cell_type": "markdown",
   "metadata": {},
   "source": [
    "7. "
   ]
  },
  {
   "cell_type": "markdown",
   "metadata": {},
   "source": [
    "8. "
   ]
  }
 ],
 "metadata": {
  "language_info": {
   "name": "python"
  }
 },
 "nbformat": 4,
 "nbformat_minor": 2
}
