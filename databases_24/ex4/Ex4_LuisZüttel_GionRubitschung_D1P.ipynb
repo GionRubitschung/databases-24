{
 "cells": [
  {
   "cell_type": "markdown",
   "metadata": {},
   "source": [
    "# Aufgabe 1\n",
    "\n",
    "Drücken Sie die gegebenen Abfragen in der relationalen Algebra aus.\n",
    "\n",
    "$employee(\\underline{person\\_name}, street, city)$\n",
    "\n",
    "$works(\\underline{person\\_name}, company\\_name, salary)$\n",
    "\n",
    "$company(\\underline{person\\_name}, city)$\n",
    "\n",
    "$manages(\\underline{person\\_name}, manager\\_name)$"
   ]
  },
  {
   "cell_type": "markdown",
   "metadata": {},
   "source": [
    "1. Finde die Namen und Wohnorte aller Angestellten, welche für FBC arbeiten.\n",
    "\n",
    "    $employee\\_works \\leftarrow employee \\bowtie works$\n",
    "\n",
    "    $fbc\\_workers \\leftarrow \\sigma_{works.company\\_name='FBC'}(employee\\_works)$\n",
    "\n",
    "    $\\pi_{person\\_name,city}(fbc\\_workers)$"
   ]
  },
  {
   "cell_type": "markdown",
   "metadata": {},
   "source": [
    "2. Finde die Namen und Wohnorte mit Strasse aller Angestellten, welche für FBC arbeiten und die mehr als CHF 100'000.- verdienen\n",
    "\n",
    "    $\\pi_{person\\_name, street, city}(\\sigma_{salary > 100000}(fbc\\_workers))$"
   ]
  },
  {
   "cell_type": "markdown",
   "metadata": {},
   "source": [
    "3. Finde die Namen aller Angestellten, die in der Stadt arbeiten in der sie auch wohnen.\n",
    "\n",
    "    $\\pi_{person\\_name}(employee\\_works \\bowtie company)$"
   ]
  },
  {
   "cell_type": "markdown",
   "metadata": {},
   "source": [
    "4. Finde die Namen aller Angestellten, die in derselben Stadt an derselben Strasse wohnen, wie ihr Manager.\n",
    "\n",
    "    $manager \\leftarrow \\rho_{manager\\_name, street, city}(employee)$\n",
    "\n",
    "    $employee \\bowtie manages \\bowtie manager$"
   ]
  },
  {
   "cell_type": "markdown",
   "metadata": {},
   "source": [
    "5. Finde die Firma mit den meisten Angestellten\n",
    "\n",
    "    $company\\_employees \\leftarrow _{company\\_name} \\mathcal{G}_{count(person\\_name) \\space as \\space employees}(works)$\n",
    "\n",
    "    $most\\_employees \\leftarrow \\mathcal{G}_{max(company\\_name) \\space as \\space max\\_employees} (company\\_employees)$\n",
    "\n",
    "    $\\pi_{company\\_name}(\\sigma_{employees=max\\_employees})(company\\_employees \\times most\\_employees)$"
   ]
  },
  {
   "cell_type": "markdown",
   "metadata": {},
   "source": [
    "6. Finde die Firma, welche die kleinste Lohnsumme bezahlt.\n",
    "\n",
    "    $sum\\_salaries \\leftarrow _{company\\_name }\\mathcal{G}_{sum(salary)\\space as \\space sum\\_salaries}(works)$\n",
    "\n",
    "    $min\\_salary \\leftarrow \\mathcal{G}_{min(sum\\_salaries)\\space as \\space min\\_salary}(sum\\_salaries)$\n",
    "\n",
    "    $\\pi_{company\\_name, min\\_salary}(\\sigma_{sum\\_salaries=min\\_salary}(sum\\_salaries \\times min\\_salary))$"
   ]
  },
  {
   "cell_type": "markdown",
   "metadata": {},
   "source": [
    "7. Finde diejenigen Firmen, deren Angestelle im Durchschnitt mehr verdienen, als der Durchschnittslohn der FBC.\n",
    "\n",
    "    $fbc\\_average\\_salary \\leftarrow \\mathcal{G}_{avg(salary) \\space as \\space fbc\\_average\\_salary}(\\sigma_{company\\_name='FBC'}(works))$\n",
    "\n",
    "    $company\\_average\\_salaries \\leftarrow _{company\\_name}\\mathcal{G}_{avg(salary) as average\\_salary}(works)$\n",
    "\n",
    "    $\\pi_{company\\_name}(\\sigma_{average\\_salary > fbc\\_average\\_salary})(company\\_average\\_salaries \\times fbc\\_average\\_salary)$"
   ]
  },
  {
   "cell_type": "markdown",
   "metadata": {},
   "source": [
    "8. Finde alle Firmen, die in jeder Stadt sind, in der auch die FBC ist.\n",
    "\n",
    "    $fbc \\leftarrow \\sigma_{company\\_name='FBC'}(company)$\n",
    "\n",
    "    $cities \\leftarrow \\rho_{city}(\\pi_{company.city}(\\sigma_{company.city=fbc.city}(company \\times fbc)))$\n",
    "\n",
    "    $cities - (\\rho_{city}(fbc))$"
   ]
  },
  {
   "cell_type": "markdown",
   "metadata": {},
   "source": [
    "# Aufgabe 2\n",
    "\n",
    "Gegeben sind folgende Relationen $r(A,B,C,D)$ und $s(A,E)$:\n",
    "\n",
    "| A    | B    | C    | D        |\n",
    "| ---- | ---- | ---- | -------- |\n",
    "| \"A\"  | 1000 | 3    | \"\"       |\n",
    "| \"A\"  | 700  | Null | \"agh\"    |\n",
    "| \"A\"  | Null | 0    | \"abcdef\" |\n",
    "| \"A\"  | 1000 | 4    | Null     |\n",
    "| \"B\"  | Null | Null | \"bdf\"    |\n",
    "| \"B\"  | 1500 | Null | \"c\"      |\n",
    "| Null | 1000 | 8    | \"\"       |\n",
    "| Null | 700  | 12   | Null     |\n",
    "\n",
    "<br>\n",
    "\n",
    "| A   | E   |\n",
    "| --- | --- |\n",
    "| \"B\" | 1   |\n",
    "| \"C\" | 2   |\n",
    "| \"C\" | 3   |\n"
   ]
  },
  {
   "cell_type": "markdown",
   "metadata": {},
   "source": [
    "1. Evaluieren Sie für jede Zeile von $r$ den Wert des Prädikats $p$ mit $p = (B \\cdot C < 5000 \\space or \\space D \\space is \\space null)$\n",
    "\n",
    "    Berechnen Sie:"
   ]
  },
  {
   "cell_type": "markdown",
   "metadata": {},
   "source": [
    "2. $\\sigma_{\\mathcal{p}}(r)$\n",
    "\n",
    "    | A    | B    | C    | D        |\n",
    "    | ---- | ---- | ---- | -------- |\n",
    "    | \"A\"  | 1000 | 3    | \"\"       |\n",
    "    | \"A\"  | 1000 | 4    | Null     |\n",
    "    | Null | 700  | 12   | Null     |\n"
   ]
  },
  {
   "cell_type": "markdown",
   "metadata": {},
   "source": [
    "3. $_A\\mathcal{G}_{avg(B),sum(C)}(r)$\n",
    "\n",
    "   | A    | avg(B) | sum(C) |\n",
    "   | ---- | ------ | ------ |\n",
    "   | \"A\"  | 900    | 7      |\n",
    "   | \"B\"  | 1500   | Null   |\n",
    "   | Null | 850    | 20     |\n"
   ]
  },
  {
   "cell_type": "markdown",
   "metadata": {},
   "source": [
    "4. $_A \\mathcal{G}_{avg(B)}(\\pi_{A,B}(r))$\n",
    "\n",
    "   | A    | B    |\n",
    "   | ---- | ---- |\n",
    "   | \"A\"  | 850  |\n",
    "   | \"B\"  | 1500 |\n",
    "   | Null | 850  |\n"
   ]
  },
  {
   "cell_type": "markdown",
   "metadata": {},
   "source": [
    "5. $r \\bowtie s$\n",
    "\n",
    "   | A   | B    | C    | D     | E   |\n",
    "   | --- | ---- | ---- | ----- | --- |\n",
    "   | \"B\" | Null | Null | \"bdf\" | 1   |\n",
    "   | \"B\" | 1500 | Null | \"c\"   | 1   |\n"
   ]
  },
  {
   "cell_type": "markdown",
   "metadata": {},
   "source": [
    "6. $r⟖s$\n",
    "\n",
    "    | A   | B    | C    | D     | E   |\n",
    "    | --- | ---- | ---- | ----- | --- |\n",
    "    | \"B\" | Null | Null | \"bdf\" | 1   |\n",
    "    | \"B\" | 1500 | Null | \"c\"   | 1   |\n",
    "    | \"C\" | Null | Null | Null  | 2   |\n",
    "    | \"C\" | Null | Null | Null  | 3   |\n"
   ]
  },
  {
   "cell_type": "markdown",
   "metadata": {},
   "source": [
    "7. $r ⟗ s$\n",
    "\n",
    "   | A    | B    | C    | D        | E    |\n",
    "   | ---- | ---- | ---- | -------- | ---- |\n",
    "   | \"A\"  | 1000 | 3    | \"\"       | Null |\n",
    "   | \"A\"  | 700  | Null | \"agh\"    | Null |\n",
    "   | \"A\"  | Null | 0    | \"abcdef\" | Null |\n",
    "   | \"A\"  | 1000 | 4    | Null     | Null |\n",
    "   | \"B\"  | Null | Null | \"bdf\"    | 1    |\n",
    "   | \"B\"  | 1500 | Null | \"c\"      | 1    |\n",
    "   | \"C\"  | Null | Null | Null     | 2    |\n",
    "   | \"C\"  | Null | Null | Null     | 3    |\n",
    "   | Null | 1000 | 8    | \"\"       | Null |\n",
    "   | Null | 700  | 12   | Null     | Null |\n"
   ]
  },
  {
   "cell_type": "markdown",
   "metadata": {},
   "source": [
    "# Aufgabe 3 (Implementation Kartesisches Produkt und Natural Join)\n",
    "\n",
    "Gegeben seien Relationen $r(A,B)$ und $s(B,C)$. Die Relationen liegen in Form von Listen von Tupeln vor. Tupel sind Listen mit fester Länge, in unserem Falle mit Länge zwei.<br>\n",
    "Zusätzlich zu den üblichen Funktionen `head` und `tail` gibt es auf den Listen (und damit auch auf Tupeln) die Funktion `list cons(element a, list l)` die die Liste liefert, die durch Voranstellen von Element `a` an die Liste `l` entsteht. Die leere Liste heisst `nil`.<br>\n",
    "Andere Funktionen auf Listen gibt es nicht."
   ]
  },
  {
   "cell_type": "markdown",
   "metadata": {},
   "source": [
    "1. Geben Sie einen Algorithmus an, um das kartesische Produkt der beiden Relationen zu berechnen.\n"
   ]
  },
  {
   "cell_type": "code",
   "execution_count": 4,
   "metadata": {},
   "outputs": [
    {
     "data": {
      "text/plain": [
       "[((1, 2), (5, 6)),\n",
       " ((1, 2), (7, 8)),\n",
       " ((1, 2), (9, 10)),\n",
       " ((3, 4), (5, 6)),\n",
       " ((3, 4), (7, 8)),\n",
       " ((3, 4), (9, 10)),\n",
       " ((5, 6), (5, 6)),\n",
       " ((5, 6), (7, 8)),\n",
       " ((5, 6), (9, 10))]"
      ]
     },
     "execution_count": 4,
     "metadata": {},
     "output_type": "execute_result"
    }
   ],
   "source": [
    "r = [(1, 2), (3, 4), (5, 6)]\n",
    "s = [(5, 6), (7, 8), (9, 10)]\n",
    "\n",
    "def cartesian_product(r, s):\n",
    "    return [(a, b) for a in r for b in s]\n",
    "\n",
    "cartesian_product(r, s)"
   ]
  },
  {
   "cell_type": "markdown",
   "metadata": {},
   "source": [
    "2. Geben Sie einen Algorithmus an, um den natural join der beiden Relationen zu berechnen."
   ]
  },
  {
   "cell_type": "code",
   "execution_count": 3,
   "metadata": {},
   "outputs": [
    {
     "data": {
      "text/plain": [
       "[('a1', 'b1', 'c1'), ('a2', 'b2', 'c2')]"
      ]
     },
     "execution_count": 3,
     "metadata": {},
     "output_type": "execute_result"
    }
   ],
   "source": [
    "def head(lst):\n",
    "    return lst[0]\n",
    "\n",
    "def tail(lst):\n",
    "    return lst[1:]\n",
    "\n",
    "def cons(element, lst):\n",
    "    return [element] + lst\n",
    "\n",
    "def natural_join(r, s):\n",
    "    if not r:\n",
    "        return []\n",
    "    else:\n",
    "        a, b = head(r)\n",
    "        matching_tuples = []\n",
    "        for b_, c in s:\n",
    "            if b == b_:\n",
    "                matching_tuples = cons((a, b, c), matching_tuples)\n",
    "        return matching_tuples + natural_join(tail(r), s)\n",
    "\n",
    "r = [('a1', 'b1'), ('a2', 'b2'), ('a3', 'b3')]\n",
    "s = [('b1', 'c1'), ('b2', 'c2'), ('b4', 'c4')]\n",
    "\n",
    "natural_join(r, s)"
   ]
  }
 ],
 "metadata": {
  "kernelspec": {
   "display_name": "databases-24-UT-w7X0b-py3.12",
   "language": "python",
   "name": "python3"
  },
  "language_info": {
   "codemirror_mode": {
    "name": "ipython",
    "version": 3
   },
   "file_extension": ".py",
   "mimetype": "text/x-python",
   "name": "python",
   "nbconvert_exporter": "python",
   "pygments_lexer": "ipython3",
   "version": "3.12.2"
  }
 },
 "nbformat": 4,
 "nbformat_minor": 2
}
