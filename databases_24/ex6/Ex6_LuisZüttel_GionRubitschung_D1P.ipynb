{
 "cells": [
  {
   "cell_type": "code",
   "execution_count": 1,
   "metadata": {},
   "outputs": [
    {
     "data": {
      "text/html": [
       "<span style=\"None\">The &#x27;toml&#x27; package isn&#x27;t installed. To load settings from pyproject.toml or ~/.jupysql/config, install with: pip install toml</span>"
      ],
      "text/plain": [
       "The 'toml' package isn't installed. To load settings from pyproject.toml or ~/.jupysql/config, install with: pip install toml"
      ]
     },
     "metadata": {},
     "output_type": "display_data"
    }
   ],
   "source": [
    "%load_ext sql"
   ]
  },
  {
   "cell_type": "markdown",
   "metadata": {},
   "source": [
    "# Aufgabe 1\n",
    "Realisieren Sie folgende Aufgaben in university.db. Geben Sie je genau ein SQL statement an."
   ]
  },
  {
   "cell_type": "markdown",
   "metadata": {},
   "source": [
    "1.   Erhöhe das Gehalt jedes Computer-Science-Instruktors um 10%."
   ]
  },
  {
   "cell_type": "markdown",
   "metadata": {},
   "source": [
    "```sql\n",
    "update instructor\n",
    "set salary = salary * 1.1\n",
    "where dept_name = 'Comp. Sci.';\n",
    "```"
   ]
  },
  {
   "cell_type": "markdown",
   "metadata": {},
   "source": [
    "2. Lösche alle Kurse die nie angeboten wurden."
   ]
  },
  {
   "cell_type": "markdown",
   "metadata": {},
   "source": [
    "```sql\n",
    "delete from course\n",
    "where course_id not in (\n",
    "  select course_id from section\n",
    ");\n",
    "```"
   ]
  },
  {
   "cell_type": "markdown",
   "metadata": {},
   "source": [
    "3. Stelle alle Studierenden miat mehr als 100 credits als Instruktor im selben Department mit einem Gehalt von 30'000 ein."
   ]
  },
  {
   "cell_type": "markdown",
   "metadata": {},
   "source": [
    "```sql\n",
    "insert into instructor\n",
    "select ID, name, dept_name, 30000\n",
    "from student\n",
    "where tot_cred > 100;\n",
    "```"
   ]
  },
  {
   "cell_type": "markdown",
   "metadata": {},
   "source": [
    "# Aufgabe 2 (Verständnis von Abfragen)\n",
    "\n",
    "Gegeben ist wieder das Schema von **publications.db** vom letzten Übungsblatt."
   ]
  },
  {
   "cell_type": "code",
   "execution_count": 2,
   "metadata": {},
   "outputs": [
    {
     "data": {
      "text/html": [
       "<span style=\"None\">Connecting to &#x27;sqlite:///../data/publications.db&#x27;</span>"
      ],
      "text/plain": [
       "Connecting to 'sqlite:///../data/publications.db'"
      ]
     },
     "metadata": {},
     "output_type": "display_data"
    },
    {
     "data": {
      "text/html": [
       "<span style=\"None\">displaylimit: Value None will be treated as 0 (no limit)</span>"
      ],
      "text/plain": [
       "displaylimit: Value None will be treated as 0 (no limit)"
      ]
     },
     "metadata": {},
     "output_type": "display_data"
    }
   ],
   "source": [
    "%sql sqlite:///../data/publications.db\n",
    "%config SqlMagic.displaylimit = None"
   ]
  },
  {
   "cell_type": "markdown",
   "metadata": {},
   "source": [
    "1. Wieso ergibt folgende Abfrage nicht wie erwartet alle Titel die weniger als 20 Dollar kosten? Was liefert die Abfrage stattdessen?\n",
    "\n",
    "```sql\n",
    "select title from titles\n",
    "where price < 20;\n",
    "```"
   ]
  },
  {
   "cell_type": "code",
   "execution_count": 3,
   "metadata": {
    "vscode": {
     "languageId": "sql"
    }
   },
   "outputs": [
    {
     "data": {
      "text/html": [
       "<span style=\"None\">Running query in &#x27;sqlite:///../data/publications.db&#x27;</span>"
      ],
      "text/plain": [
       "Running query in 'sqlite:///../data/publications.db'"
      ]
     },
     "metadata": {},
     "output_type": "display_data"
    },
    {
     "data": {
      "text/html": [
       "<table>\n",
       "    <thead>\n",
       "        <tr>\n",
       "            <th>title</th>\n",
       "            <th>price</th>\n",
       "        </tr>\n",
       "    </thead>\n",
       "    <tbody>\n",
       "        <tr>\n",
       "            <td>The Busy Executive's Database Guide</td>\n",
       "            <td>19.99</td>\n",
       "        </tr>\n",
       "        <tr>\n",
       "            <td>Emotional Security: A New Algorithm</td>\n",
       "            <td>7.99</td>\n",
       "        </tr>\n",
       "        <tr>\n",
       "            <td>Prolonged Data Deprivation: Four Case Studies</td>\n",
       "            <td>19.99</td>\n",
       "        </tr>\n",
       "        <tr>\n",
       "            <td>Cooking with Computers: Surreptitious Balance Sheets</td>\n",
       "            <td>11.95</td>\n",
       "        </tr>\n",
       "        <tr>\n",
       "            <td>Silicon Valley Gastronomic Treats</td>\n",
       "            <td>19.99</td>\n",
       "        </tr>\n",
       "        <tr>\n",
       "            <td>Sushi, Anyone?</td>\n",
       "            <td>14.99</td>\n",
       "        </tr>\n",
       "        <tr>\n",
       "            <td>Fifty Years in Buckingham Palace Kitchens</td>\n",
       "            <td>11.95</td>\n",
       "        </tr>\n",
       "        <tr>\n",
       "            <td>You Can Combat Computer Stress!</td>\n",
       "            <td>2.99</td>\n",
       "        </tr>\n",
       "        <tr>\n",
       "            <td>Is Anger the Enemy?</td>\n",
       "            <td>10.95</td>\n",
       "        </tr>\n",
       "        <tr>\n",
       "            <td>Life Without Fear</td>\n",
       "            <td>7</td>\n",
       "        </tr>\n",
       "        <tr>\n",
       "            <td>The Gourmet Microwave</td>\n",
       "            <td>2.99</td>\n",
       "        </tr>\n",
       "        <tr>\n",
       "            <td>Straight Talk About Computers</td>\n",
       "            <td>19.99</td>\n",
       "        </tr>\n",
       "    </tbody>\n",
       "</table>"
      ],
      "text/plain": [
       "+------------------------------------------------------+-------+\n",
       "|                        title                         | price |\n",
       "+------------------------------------------------------+-------+\n",
       "|         The Busy Executive's Database Guide          | 19.99 |\n",
       "|         Emotional Security: A New Algorithm          |  7.99 |\n",
       "|    Prolonged Data Deprivation: Four Case Studies     | 19.99 |\n",
       "| Cooking with Computers: Surreptitious Balance Sheets | 11.95 |\n",
       "|          Silicon Valley Gastronomic Treats           | 19.99 |\n",
       "|                    Sushi, Anyone?                    | 14.99 |\n",
       "|      Fifty Years in Buckingham Palace Kitchens       | 11.95 |\n",
       "|           You Can Combat Computer Stress!            |  2.99 |\n",
       "|                 Is Anger the Enemy?                  | 10.95 |\n",
       "|                  Life Without Fear                   |   7   |\n",
       "|                The Gourmet Microwave                 |  2.99 |\n",
       "|            Straight Talk About Computers             | 19.99 |\n",
       "+------------------------------------------------------+-------+"
      ]
     },
     "execution_count": 3,
     "metadata": {},
     "output_type": "execute_result"
    }
   ],
   "source": [
    "%%sql\n",
    "\n",
    "select title, price from titles\n",
    "where price < 20;"
   ]
  },
  {
   "cell_type": "markdown",
   "metadata": {},
   "source": [
    "Die Abfrage ignoriert alle Title die keinen Preis angegeben haben, sprich wo `price` auf `null` gesetzt ist. Die Abfrage liefert also alle Titel bei denen der Preis bekannt ist und unter 20 Dollar kostet."
   ]
  },
  {
   "cell_type": "markdown",
   "metadata": {},
   "source": [
    "2. Wieso ergibt folgende Abfrage nicht wie erwartet die Autoren zusammen mit den Verlegern, bei denen sie publiziert haben? Was liefert die Abfrage stattdessen? Korrigieren Sie die Abfrage.\n",
    "\n",
    "```sql\n",
    "select au_lname, pub_name\n",
    "from authors natural join titleauthor natural join titles\n",
    "natural join publishers;\n",
    "```"
   ]
  },
  {
   "cell_type": "code",
   "execution_count": 4,
   "metadata": {
    "vscode": {
     "languageId": "sql"
    }
   },
   "outputs": [
    {
     "data": {
      "text/html": [
       "<span style=\"None\">Running query in &#x27;sqlite:///../data/publications.db&#x27;</span>"
      ],
      "text/plain": [
       "Running query in 'sqlite:///../data/publications.db'"
      ]
     },
     "metadata": {},
     "output_type": "display_data"
    },
    {
     "data": {
      "text/html": [
       "<table>\n",
       "    <thead>\n",
       "        <tr>\n",
       "            <th>au_lname</th>\n",
       "            <th>pub_name</th>\n",
       "            <th>city</th>\n",
       "            <th>state</th>\n",
       "        </tr>\n",
       "    </thead>\n",
       "    <tbody>\n",
       "        <tr>\n",
       "            <td>Carson</td>\n",
       "            <td>Algodata Infosystems</td>\n",
       "            <td>Berkeley</td>\n",
       "            <td>CA</td>\n",
       "        </tr>\n",
       "        <tr>\n",
       "            <td>Bennet</td>\n",
       "            <td>Algodata Infosystems</td>\n",
       "            <td>Berkeley</td>\n",
       "            <td>CA</td>\n",
       "        </tr>\n",
       "    </tbody>\n",
       "</table>"
      ],
      "text/plain": [
       "+----------+----------------------+----------+-------+\n",
       "| au_lname |       pub_name       |   city   | state |\n",
       "+----------+----------------------+----------+-------+\n",
       "|  Carson  | Algodata Infosystems | Berkeley |   CA  |\n",
       "|  Bennet  | Algodata Infosystems | Berkeley |   CA  |\n",
       "+----------+----------------------+----------+-------+"
      ]
     },
     "execution_count": 4,
     "metadata": {},
     "output_type": "execute_result"
    }
   ],
   "source": [
    "%%sql\n",
    "\n",
    "select au_lname, pub_name, city, state\n",
    "from authors natural join titleauthor natural join titles\n",
    "natural join publishers;"
   ]
  },
  {
   "cell_type": "markdown",
   "metadata": {},
   "source": [
    "Durch den `natural join` werden alle gemeinsamen Attribute berücksichtigt. `authors` und `publishers` haben beide die Attribute `city` und `state`. Die Abfrage liefert also alle Autoren zusammen mit den Verlegern, bei denen sie publiziert haben, in der selben Stadt und im selben Staat sind."
   ]
  },
  {
   "cell_type": "code",
   "execution_count": 5,
   "metadata": {
    "vscode": {
     "languageId": "sql"
    }
   },
   "outputs": [
    {
     "data": {
      "text/html": [
       "<span style=\"None\">Running query in &#x27;sqlite:///../data/publications.db&#x27;</span>"
      ],
      "text/plain": [
       "Running query in 'sqlite:///../data/publications.db'"
      ]
     },
     "metadata": {},
     "output_type": "display_data"
    },
    {
     "data": {
      "text/html": [
       "<table>\n",
       "    <thead>\n",
       "        <tr>\n",
       "            <th>au_lname</th>\n",
       "            <th>pub_name</th>\n",
       "        </tr>\n",
       "    </thead>\n",
       "    <tbody>\n",
       "        <tr>\n",
       "            <td>White</td>\n",
       "            <td>New Age Books</td>\n",
       "        </tr>\n",
       "        <tr>\n",
       "            <td>Green</td>\n",
       "            <td>Algodata Infosystems</td>\n",
       "        </tr>\n",
       "        <tr>\n",
       "            <td>Green</td>\n",
       "            <td>New Age Books</td>\n",
       "        </tr>\n",
       "        <tr>\n",
       "            <td>Carson</td>\n",
       "            <td>Algodata Infosystems</td>\n",
       "        </tr>\n",
       "        <tr>\n",
       "            <td>O'Leary</td>\n",
       "            <td>Algodata Infosystems</td>\n",
       "        </tr>\n",
       "        <tr>\n",
       "            <td>O'Leary</td>\n",
       "            <td>Binnet & Hardley</td>\n",
       "        </tr>\n",
       "        <tr>\n",
       "            <td>Straight</td>\n",
       "            <td>Algodata Infosystems</td>\n",
       "        </tr>\n",
       "        <tr>\n",
       "            <td>Bennet</td>\n",
       "            <td>Algodata Infosystems</td>\n",
       "        </tr>\n",
       "        <tr>\n",
       "            <td>Dull</td>\n",
       "            <td>Algodata Infosystems</td>\n",
       "        </tr>\n",
       "        <tr>\n",
       "            <td>Gringlesby</td>\n",
       "            <td>Binnet & Hardley</td>\n",
       "        </tr>\n",
       "        <tr>\n",
       "            <td>Locksley</td>\n",
       "            <td>Algodata Infosystems</td>\n",
       "        </tr>\n",
       "        <tr>\n",
       "            <td>Locksley</td>\n",
       "            <td>New Age Books</td>\n",
       "        </tr>\n",
       "        <tr>\n",
       "            <td>Blotchet-Halls</td>\n",
       "            <td>Binnet & Hardley</td>\n",
       "        </tr>\n",
       "        <tr>\n",
       "            <td>Yokomoto</td>\n",
       "            <td>Binnet & Hardley</td>\n",
       "        </tr>\n",
       "        <tr>\n",
       "            <td>del Castillo</td>\n",
       "            <td>Binnet & Hardley</td>\n",
       "        </tr>\n",
       "        <tr>\n",
       "            <td>DeFrance</td>\n",
       "            <td>Binnet & Hardley</td>\n",
       "        </tr>\n",
       "        <tr>\n",
       "            <td>MacFeather</td>\n",
       "            <td>Algodata Infosystems</td>\n",
       "        </tr>\n",
       "        <tr>\n",
       "            <td>MacFeather</td>\n",
       "            <td>Binnet & Hardley</td>\n",
       "        </tr>\n",
       "        <tr>\n",
       "            <td>Karsen</td>\n",
       "            <td>Binnet & Hardley</td>\n",
       "        </tr>\n",
       "        <tr>\n",
       "            <td>Panteley</td>\n",
       "            <td>Binnet & Hardley</td>\n",
       "        </tr>\n",
       "        <tr>\n",
       "            <td>Hunter</td>\n",
       "            <td>Algodata Infosystems</td>\n",
       "        </tr>\n",
       "        <tr>\n",
       "            <td>Ringer</td>\n",
       "            <td>Binnet & Hardley</td>\n",
       "        </tr>\n",
       "        <tr>\n",
       "            <td>Ringer</td>\n",
       "            <td>New Age Books</td>\n",
       "        </tr>\n",
       "        <tr>\n",
       "            <td>Ringer</td>\n",
       "            <td>New Age Books</td>\n",
       "        </tr>\n",
       "        <tr>\n",
       "            <td>Ringer</td>\n",
       "            <td>New Age Books</td>\n",
       "        </tr>\n",
       "    </tbody>\n",
       "</table>"
      ],
      "text/plain": [
       "+----------------+----------------------+\n",
       "|    au_lname    |       pub_name       |\n",
       "+----------------+----------------------+\n",
       "|     White      |    New Age Books     |\n",
       "|     Green      | Algodata Infosystems |\n",
       "|     Green      |    New Age Books     |\n",
       "|     Carson     | Algodata Infosystems |\n",
       "|    O'Leary     | Algodata Infosystems |\n",
       "|    O'Leary     |   Binnet & Hardley   |\n",
       "|    Straight    | Algodata Infosystems |\n",
       "|     Bennet     | Algodata Infosystems |\n",
       "|      Dull      | Algodata Infosystems |\n",
       "|   Gringlesby   |   Binnet & Hardley   |\n",
       "|    Locksley    | Algodata Infosystems |\n",
       "|    Locksley    |    New Age Books     |\n",
       "| Blotchet-Halls |   Binnet & Hardley   |\n",
       "|    Yokomoto    |   Binnet & Hardley   |\n",
       "|  del Castillo  |   Binnet & Hardley   |\n",
       "|    DeFrance    |   Binnet & Hardley   |\n",
       "|   MacFeather   | Algodata Infosystems |\n",
       "|   MacFeather   |   Binnet & Hardley   |\n",
       "|     Karsen     |   Binnet & Hardley   |\n",
       "|    Panteley    |   Binnet & Hardley   |\n",
       "|     Hunter     | Algodata Infosystems |\n",
       "|     Ringer     |   Binnet & Hardley   |\n",
       "|     Ringer     |    New Age Books     |\n",
       "|     Ringer     |    New Age Books     |\n",
       "|     Ringer     |    New Age Books     |\n",
       "+----------------+----------------------+"
      ]
     },
     "execution_count": 5,
     "metadata": {},
     "output_type": "execute_result"
    }
   ],
   "source": [
    "%%sql\n",
    "\n",
    "select au_lname, pub_name from authors\n",
    "  join titleauthor on authors.au_id = titleauthor.au_id\n",
    "  join titles on titleauthor.title_id = titles.title_id\n",
    "  join publishers on titles.pub_id = publishers.pub_id;"
   ]
  },
  {
   "cell_type": "markdown",
   "metadata": {},
   "source": [
    "3. Wieso ergibt folgende Abfrage nicht wie erwartet alle Verleger, die höchstens zwei Psychologiebücher verlegt haben? Was liefert die Abfrage stattdessen? Korrigieren Sie die Abfrage.\n",
    "\n",
    "```sql\n",
    "select pub_id, count(title_id) as numtitles\n",
    "from titles\n",
    "where type like 'psychology%'\n",
    "group by pub_id\n",
    "having numtitles <= 2;\n",
    "```"
   ]
  },
  {
   "cell_type": "code",
   "execution_count": 6,
   "metadata": {
    "vscode": {
     "languageId": "sql"
    }
   },
   "outputs": [
    {
     "data": {
      "text/html": [
       "<span style=\"None\">Running query in &#x27;sqlite:///../data/publications.db&#x27;</span>"
      ],
      "text/plain": [
       "Running query in 'sqlite:///../data/publications.db'"
      ]
     },
     "metadata": {},
     "output_type": "display_data"
    },
    {
     "data": {
      "text/html": [
       "<table>\n",
       "    <thead>\n",
       "        <tr>\n",
       "            <th>pub_id</th>\n",
       "            <th>numtitles</th>\n",
       "        </tr>\n",
       "    </thead>\n",
       "    <tbody>\n",
       "        <tr>\n",
       "            <td>0877</td>\n",
       "            <td>1</td>\n",
       "        </tr>\n",
       "    </tbody>\n",
       "</table>"
      ],
      "text/plain": [
       "+--------+-----------+\n",
       "| pub_id | numtitles |\n",
       "+--------+-----------+\n",
       "|  0877  |     1     |\n",
       "+--------+-----------+"
      ]
     },
     "execution_count": 6,
     "metadata": {},
     "output_type": "execute_result"
    }
   ],
   "source": [
    "%%sql\n",
    "\n",
    "select pub_id, count(title_id) as numtitles\n",
    "from titles\n",
    "where type like 'psychology%'\n",
    "group by pub_id\n",
    "having numtitles <= 2;"
   ]
  },
  {
   "cell_type": "code",
   "execution_count": 7,
   "metadata": {
    "vscode": {
     "languageId": "sql"
    }
   },
   "outputs": [
    {
     "data": {
      "text/html": [
       "<span style=\"None\">Running query in &#x27;sqlite:///../data/publications.db&#x27;</span>"
      ],
      "text/plain": [
       "Running query in 'sqlite:///../data/publications.db'"
      ]
     },
     "metadata": {},
     "output_type": "display_data"
    },
    {
     "data": {
      "text/html": [
       "<table>\n",
       "    <thead>\n",
       "        <tr>\n",
       "            <th>pub_id</th>\n",
       "            <th>numtitles</th>\n",
       "        </tr>\n",
       "    </thead>\n",
       "    <tbody>\n",
       "        <tr>\n",
       "            <td>0877</td>\n",
       "            <td>1</td>\n",
       "        </tr>\n",
       "        <tr>\n",
       "            <td>1389</td>\n",
       "            <td>0</td>\n",
       "        </tr>\n",
       "    </tbody>\n",
       "</table>"
      ],
      "text/plain": [
       "+--------+-----------+\n",
       "| pub_id | numtitles |\n",
       "+--------+-----------+\n",
       "|  0877  |     1     |\n",
       "|  1389  |     0     |\n",
       "+--------+-----------+"
      ]
     },
     "execution_count": 7,
     "metadata": {},
     "output_type": "execute_result"
    }
   ],
   "source": [
    "%%sql\n",
    "\n",
    "with psychology_books as (\n",
    "  select *\n",
    "  from titles\n",
    "  where type like 'psychology%'\n",
    ")\n",
    "select pub_id, count(pub_id) as numtitles\n",
    "from psychology_books\n",
    "group by pub_id\n",
    "having numtitles <= 2\n",
    "union\n",
    "select pub_id, 0 from (\n",
    "  select pub_id from publishers\n",
    "  except\n",
    "  select pub_id from psychology_books\n",
    ");"
   ]
  },
  {
   "cell_type": "markdown",
   "metadata": {},
   "source": [
    "```"
   ]
  },
  {
   "cell_type": "markdown",
   "metadata": {},
   "source": [
    "# Aufgabe 3 (Verständnis von Abfragen)\n",
    "\n",
    "Gegeben sei folgendes Schema:\n",
    "\n",
    "$person(\\underline{name}, street, city)$\n",
    "\n",
    "$purchase(\\underline{name},\\underline{id}, number\\_of\\_items)$<br>\n",
    "$name \\rightarrow person$<br>\n",
    "$id \\rightarrow product$\n",
    "\n",
    "$product(\\underline{id}, supplier\\_name, description, price)$<br>\n",
    "$supplier\\_name \\rightarrow supplier$\n",
    "\n",
    "$supplier(\\underline{name}, street, city)$\n",
    "\n",
    "Beschreiben Sie umgangssprachlich das Resultat folgender Abfragen."
   ]
  },
  {
   "cell_type": "markdown",
   "metadata": {},
   "source": [
    "1."
   ]
  },
  {
   "cell_type": "markdown",
   "metadata": {},
   "source": [
    "2."
   ]
  },
  {
   "cell_type": "markdown",
   "metadata": {},
   "source": [
    "3."
   ]
  },
  {
   "cell_type": "markdown",
   "metadata": {},
   "source": [
    "4."
   ]
  },
  {
   "cell_type": "markdown",
   "metadata": {},
   "source": [
    "5."
   ]
  },
  {
   "cell_type": "markdown",
   "metadata": {},
   "source": [
    "6."
   ]
  }
 ],
 "metadata": {
  "kernelspec": {
   "display_name": ".venv",
   "language": "python",
   "name": "python3"
  },
  "language_info": {
   "codemirror_mode": {
    "name": "ipython",
    "version": 3
   },
   "file_extension": ".py",
   "mimetype": "text/x-python",
   "name": "python",
   "nbconvert_exporter": "python",
   "pygments_lexer": "ipython3",
   "version": "3.12.2"
  }
 },
 "nbformat": 4,
 "nbformat_minor": 2
}
