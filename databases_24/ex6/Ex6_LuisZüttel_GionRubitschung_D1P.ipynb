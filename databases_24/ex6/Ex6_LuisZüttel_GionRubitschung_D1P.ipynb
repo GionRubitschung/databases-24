{
 "cells": [
  {
   "cell_type": "code",
   "execution_count": 1,
   "metadata": {},
   "outputs": [
    {
     "data": {
      "text/html": [
       "<span style=\"None\">The &#x27;toml&#x27; package isn&#x27;t installed. To load settings from pyproject.toml or ~/.jupysql/config, install with: pip install toml</span>"
      ],
      "text/plain": [
       "The 'toml' package isn't installed. To load settings from pyproject.toml or ~/.jupysql/config, install with: pip install toml"
      ]
     },
     "metadata": {},
     "output_type": "display_data"
    }
   ],
   "source": [
    "%load_ext sql"
   ]
  },
  {
   "cell_type": "markdown",
   "metadata": {},
   "source": [
    "# Aufgabe 1\n",
    "Realisieren Sie folgende Aufgaben in university.db. Geben Sie je genau ein SQL statement an."
   ]
  },
  {
   "cell_type": "markdown",
   "metadata": {},
   "source": [
    "1.   Erhöhe das Gehalt jedes Computer-Science-Instruktors um 10%."
   ]
  },
  {
   "cell_type": "markdown",
   "metadata": {},
   "source": [
    "```sql\n",
    "update instructor\n",
    "set salary = salary * 1.1\n",
    "where dept_name = 'Comp. Sci.';\n",
    "```"
   ]
  },
  {
   "cell_type": "markdown",
   "metadata": {},
   "source": [
    "2. Lösche alle Kurse die nie angeboten wurden."
   ]
  },
  {
   "cell_type": "markdown",
   "metadata": {},
   "source": [
    "```sql\n",
    "delete from course\n",
    "where course_id not in (\n",
    "  select course_id from section\n",
    ");\n",
    "```"
   ]
  },
  {
   "cell_type": "markdown",
   "metadata": {},
   "source": [
    "3. Stelle alle Studierenden miat mehr als 100 credits als Instruktor im selben Department mit einem Gehalt von 30'000 ein."
   ]
  },
  {
   "cell_type": "markdown",
   "metadata": {},
   "source": [
    "```sql\n",
    "insert into instructor\n",
    "select ID, name, dept_name, 30000\n",
    "from student\n",
    "where tot_cred > 100;\n",
    "```"
   ]
  },
  {
   "cell_type": "markdown",
   "metadata": {},
   "source": [
    "# Aufgabe 2 (Verständnis von Abfragen)\n",
    "\n",
    "Gegeben ist wieder das Schema von **publications.db** vom letzten Übungsblatt."
   ]
  },
  {
   "cell_type": "code",
   "execution_count": 2,
   "metadata": {},
   "outputs": [
    {
     "data": {
      "text/html": [
       "<span style=\"None\">Connecting to &#x27;sqlite:///../data/publications.db&#x27;</span>"
      ],
      "text/plain": [
       "Connecting to 'sqlite:///../data/publications.db'"
      ]
     },
     "metadata": {},
     "output_type": "display_data"
    }
   ],
   "source": [
    "%sql sqlite:///../data/publications.db"
   ]
  },
  {
   "cell_type": "markdown",
   "metadata": {},
   "source": [
    "1. "
   ]
  },
  {
   "cell_type": "markdown",
   "metadata": {},
   "source": [
    "2. "
   ]
  },
  {
   "cell_type": "markdown",
   "metadata": {},
   "source": [
    "3. "
   ]
  },
  {
   "cell_type": "markdown",
   "metadata": {},
   "source": [
    "```"
   ]
  },
  {
   "cell_type": "markdown",
   "metadata": {},
   "source": [
    "# Aufgabe 3 (Verständnis von Abfragen)\n",
    "\n",
    "Gegeben sei folgendes Schema:\n",
    "\n",
    "$person(\\underline{name}, street, city)$\n",
    "\n",
    "$purchase(\\underline{name},\\underline{id}, number\\_of\\_items)$<br>\n",
    "$name \\rightarrow person$<br>\n",
    "$id \\rightarrow product$\n",
    "\n",
    "$product(\\underline{id}, supplier\\_name, description, price)$<br>\n",
    "$supplier\\_name \\rightarrow supplier$\n",
    "\n",
    "$supplier(\\underline{name}, street, city)$\n",
    "\n",
    "Beschreiben Sie umgangssprachlich das Resultat folgender Abfragen."
   ]
  },
  {
   "cell_type": "markdown",
   "metadata": {},
   "source": [
    "1. ```sql\n",
    "    select name from person natural join purchase;\n",
    "    ```\n",
    "\n",
    "    Das Resultat zeigt alle Personen von `person`, die jeweils ein oder mehrere Käufe in `purchase` für eine beliebige Anzahl Produkte gemacht haben."
   ]
  },
  {
   "cell_type": "markdown",
   "metadata": {},
   "source": [
    "2.  ```sql\n",
    "    select name from person natural join purchase\n",
    "                            natural join product\n",
    "                            natural join supplier;\n",
    "    ```\n",
    "\n",
    "    Das Resultat zeigt bis und mit dem `natural join` auf `product`, dasselbe wie das obere Resultat mit dem Unterschied, dass nun die Produkthersteller, Beschrieb und Preis.<br>\n",
    "    Erst dann bei dem `natural join` auf `supplier` wird das Resultat so erweitert, bei denen der Name des Herstellers und der Person übereinstimmen und als gleiches Attribut angesehen wird."
   ]
  },
  {
   "cell_type": "markdown",
   "metadata": {},
   "source": [
    "3.  ```sql\n",
    "    select supplier_name, avg(price)\n",
    "    from product\n",
    "    group by supplier_name;\n",
    "    ```\n",
    "    \n",
    "    Das Resultat zeigt die Namen aller Hersteller und deren Durchschnittspreis deren Produkte. (Produkte ohne Preis werden nicht gezählt)"
   ]
  },
  {
   "cell_type": "markdown",
   "metadata": {},
   "source": [
    "4."
   ]
  },
  {
   "cell_type": "markdown",
   "metadata": {},
   "source": [
    "5."
   ]
  },
  {
   "cell_type": "markdown",
   "metadata": {},
   "source": [
    "6."
   ]
  }
 ],
 "metadata": {
  "kernelspec": {
   "display_name": ".venv",
   "language": "python",
   "name": "python3"
  },
  "language_info": {
   "codemirror_mode": {
    "name": "ipython",
    "version": 3
   },
   "file_extension": ".py",
   "mimetype": "text/x-python",
   "name": "python",
   "nbconvert_exporter": "python",
   "pygments_lexer": "ipython3",
   "version": "3.12.2"
  }
 },
 "nbformat": 4,
 "nbformat_minor": 2
}
