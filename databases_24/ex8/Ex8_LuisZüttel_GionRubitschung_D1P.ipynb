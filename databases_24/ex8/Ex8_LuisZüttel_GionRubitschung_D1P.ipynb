{
 "cells": [
  {
   "cell_type": "markdown",
   "metadata": {},
   "source": [
    "# Aufgabe 1 (ER-Diagramm übersetzen)\n",
    "\n",
    "Übersetzen Sie folgendes ER-Diagramm in ein Datenbankschema.\n",
    "\n",
    "![erd](./erd.png)"
   ]
  },
  {
   "cell_type": "markdown",
   "metadata": {},
   "source": [
    "$employee(\\underline{ss\\_num},name,address)$\n",
    "\n",
    "$repair\\_job(\\underline{id},description,ss\\_num,license)$\n",
    "\n",
    "&emsp;&emsp;$ss\\_num \\rightarrow employee$\n",
    "\n",
    "&emsp;&emsp;$license \\rightarrow car$\n",
    "\n",
    "$car(\\underline{license},model)$\n",
    "\n",
    "$sale(\\underline{ss\\_num},\\underline{license},date,price)$\n",
    "\n",
    "&emsp;&emsp;$ss\\_num \\rightarrow employee$\n",
    "\n",
    "&emsp;&emsp;$license \\rightarrow car$\n",
    "\n",
    "$replace(\\underline{replacee},replacement)$\n",
    "\n",
    "&emsp;&emsp;$replacee \\rightarrow employee$\n",
    "\n",
    "&emsp;&emsp;$replacement \\rightarrow employee$"
   ]
  },
  {
   "cell_type": "markdown",
   "metadata": {},
   "source": [
    "# Aufgabe 2 (Verständnis ER-Diagramm)"
   ]
  },
  {
   "cell_type": "markdown",
   "metadata": {},
   "source": [
    "1. In einem ER-Diagramm muss eine Entität durch ihre Attribute eindeutig identifizierbar sein. Geben Sie ein Beispiel für ein Diagramm, welches diese verletzt (also kein ER-Diagramm ist).\n",
    "\n",
    "    Dies könnte ein Diagramm sein die eine Entität \"Person\" enthält mit Attributen die die jeweilige Person nicht eindeutig identifiziert. Zum Beispiel $person(name,birth\\_date)$. Es kann viele Menschen geben die denselben Namen mit demselben Geburtsdatum haben."
   ]
  },
  {
   "cell_type": "markdown",
   "metadata": {},
   "source": [
    "2. In einem ER-Diagramm muss ein Relationship durch die teilnehmenden Entitäten eindeutig identifizierbar sein. Geben Sie ein Beispiel für ein Diagramm, welches diese Regel verletzt (also kein ER-Diagramm ist).\n",
    "\n",
    "    Dies könnte ein Diagramm sein mit den zwei Entitäten \"Student\" und \"Kurs\".\n",
    "\n",
    "    $student(\\underline{id},name)$\n",
    "\n",
    "    $course(\\underline{id},name)$\n",
    "\n",
    "    $registerded(\\underline{student\\_id},\\underline{course\\_id})$\n",
    "\n",
    "    &emsp;&emsp;$student\\_id \\rightarrow student$\n",
    "\n",
    "    &emsp;&emsp;$course\\_id \\rightarrow course$\n",
    "\n",
    "    Wenn ein Student nun für einen Kurs registriert wird in der Relation ein Eintrag hinterlegt, nimmt er dann am Kurs teil nochmals ein Eintrag, welcher mit dem ersten identisch ist."
   ]
  }
 ],
 "metadata": {
  "language_info": {
   "name": "python"
  }
 },
 "nbformat": 4,
 "nbformat_minor": 2
}
