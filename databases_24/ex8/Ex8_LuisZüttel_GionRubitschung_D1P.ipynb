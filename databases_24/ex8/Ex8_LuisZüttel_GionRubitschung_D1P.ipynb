{
 "cells": [
  {
   "cell_type": "markdown",
   "metadata": {},
   "source": [
    "# Aufgabe 1\n",
    "\n",
    "Übersetzen Sie folgendes ER-Diagramm in ein Datenbankschema.\n",
    "\n",
    "![erd](./erd.png)"
   ]
  },
  {
   "cell_type": "markdown",
   "metadata": {},
   "source": [
    "$employee(\\underline{ss\\_num},name,address)$\n",
    "\n",
    "$repair\\_job(\\underline{id},description,ss\\_num,license)$\n",
    "\n",
    "&emsp;&emsp;$ss\\_num \\rightarrow employee$\n",
    "\n",
    "&emsp;&emsp;$license \\rightarrow car$\n",
    "\n",
    "$car(\\underline{license},model)$\n",
    "\n",
    "$sale(\\underline{ss\\_num},\\underline{license},date,price)$\n",
    "\n",
    "&emsp;&emsp;$ss\\_num \\rightarrow employee$\n",
    "\n",
    "&emsp;&emsp;$license \\rightarrow car$\n",
    "\n",
    "$replace(\\underline{replacee},replacement)$\n",
    "\n",
    "&emsp;&emsp;$replacee \\rightarrow employee$\n",
    "\n",
    "&emsp;&emsp;$replacement \\rightarrow employee$"
   ]
  }
 ],
 "metadata": {
  "language_info": {
   "name": "python"
  }
 },
 "nbformat": 4,
 "nbformat_minor": 2
}
